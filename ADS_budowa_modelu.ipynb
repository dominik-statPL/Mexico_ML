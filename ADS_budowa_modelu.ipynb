{
 "cells": [
  {
   "cell_type": "markdown",
   "id": "0ff92381",
   "metadata": {},
   "source": [
    "# Budowa modelu do predykcji macierzy X na wartości wektora y\n",
    "> Chcemy żeby model przewidywał rekord określający liczbę wystąpień słów na wartość 0/1 oznaczającą umeblowanie lub nie\n",
    "\n",
    "### Zastosowany został model regresji logistycznej"
   ]
  },
  {
   "cell_type": "code",
   "execution_count": 1,
   "id": "edffb337",
   "metadata": {},
   "outputs": [],
   "source": [
    "import numpy as np\n",
    "from sklearn.model_selection import GridSearchCV\n",
    "import pandas as pd\n",
    "from sklearn.model_selection import train_test_split\n",
    "from sklearn.linear_model import LogisticRegression"
   ]
  },
  {
   "cell_type": "markdown",
   "id": "9ac2f206",
   "metadata": {},
   "source": [
    "# 1. Wczytanie danych"
   ]
  },
  {
   "cell_type": "code",
   "execution_count": 2,
   "id": "9eb31126",
   "metadata": {},
   "outputs": [],
   "source": [
    "# wczytuje macierz i wektor ze sklasyfikowaną ręcznie zmienną określającą umeblowanie (1) lub nieumeblowanie+brak informacji (0)\n",
    "X=pd.read_pickle('X.pkl')\n",
    "y=pd.read_pickle('y.pkl')\n"
   ]
  },
  {
   "cell_type": "code",
   "execution_count": 4,
   "id": "473c7571",
   "metadata": {},
   "outputs": [
    {
     "data": {
      "text/plain": [
       "array([[0, 0, 0, 0, 0, 1, 0, 0, 0, 0],\n",
       "       [0, 0, 0, 0, 0, 0, 0, 0, 0, 0],\n",
       "       [0, 0, 0, 0, 0, 0, 0, 0, 0, 0],\n",
       "       [0, 0, 0, 0, 0, 0, 0, 0, 0, 0],\n",
       "       [0, 0, 0, 0, 0, 0, 0, 0, 0, 0],\n",
       "       [0, 0, 1, 1, 0, 0, 0, 0, 0, 0],\n",
       "       [0, 0, 1, 0, 0, 0, 0, 0, 0, 0],\n",
       "       [0, 1, 1, 0, 2, 0, 0, 0, 0, 0],\n",
       "       [0, 0, 1, 0, 0, 0, 0, 0, 0, 0],\n",
       "       [0, 0, 0, 0, 0, 0, 0, 0, 0, 0]], dtype=int64)"
      ]
     },
     "execution_count": 4,
     "metadata": {},
     "output_type": "execute_result"
    }
   ],
   "source": [
    "X[:10,:10]"
   ]
  },
  {
   "cell_type": "code",
   "execution_count": 20,
   "id": "b2a9614b",
   "metadata": {},
   "outputs": [
    {
     "data": {
      "text/plain": [
       "0    1\n",
       "1    0\n",
       "2    1\n",
       "3    0\n",
       "4    1\n",
       "Name: furniture_class, dtype: int64"
      ]
     },
     "execution_count": 20,
     "metadata": {},
     "output_type": "execute_result"
    }
   ],
   "source": [
    "y[:5]"
   ]
  },
  {
   "cell_type": "code",
   "execution_count": 5,
   "id": "e0bac3c4",
   "metadata": {},
   "outputs": [
    {
     "name": "stdout",
     "output_type": "stream",
     "text": [
      "(8646, 100)\n",
      "(8646,)\n"
     ]
    }
   ],
   "source": [
    "print(X.shape)\n",
    "print(y.shape)"
   ]
  },
  {
   "cell_type": "markdown",
   "id": "64ac87ca",
   "metadata": {},
   "source": [
    "# 2. Podział na podpróbki\n",
    "> wyjaśnienie: https://www.statystyczny.pl/grupa-uczaca-walidacyjna-i-testowa/"
   ]
  },
  {
   "cell_type": "code",
   "execution_count": 6,
   "id": "afe3d6b6",
   "metadata": {},
   "outputs": [],
   "source": [
    "# dokonuje podziału zbioru na sety: training - uczący, validation - walidacyjny, test - testowy\n",
    "X_train, X_test_all, y_train, y_test_all = train_test_split(X, y, test_size=0.50, random_state=0)\n",
    "X_test, X_val, y_test, y_val = train_test_split(X_test_all, y_test_all, test_size=0.50, random_state=0)\n",
    "# 50% to uczący, 25% walidacyjny, 25% testowy"
   ]
  },
  {
   "cell_type": "markdown",
   "id": "f43721d7",
   "metadata": {},
   "source": [
    "![Alt text](https://developer.qualcomm.com/sites/default/files/attachments/learning_resources_03-03.png \"a title\")"
   ]
  },
  {
   "cell_type": "code",
   "execution_count": 7,
   "id": "d1c3caf5",
   "metadata": {},
   "outputs": [
    {
     "name": "stdout",
     "output_type": "stream",
     "text": [
      "furniture_class\n",
      "0    2290\n",
      "1    6356\n",
      "Name: furniture_class, dtype: int64\n",
      "furniture_class\n",
      "0    1163\n",
      "1    3160\n",
      "Name: furniture_class, dtype: int64\n",
      "furniture_class\n",
      "0     553\n",
      "1    1609\n",
      "Name: furniture_class, dtype: int64\n",
      "furniture_class\n",
      "0     574\n",
      "1    1587\n",
      "Name: furniture_class, dtype: int64\n"
     ]
    }
   ],
   "source": [
    "# widać, że wszystkie próbki zachowują strukturę zbioru pierwotnego\n",
    "print(y.groupby(y).count())\n",
    "print(y_train.groupby(y_train).count())\n",
    "print(y_val.groupby(y_val).count())\n",
    "print(y_test.groupby(y_test).count())"
   ]
  },
  {
   "cell_type": "markdown",
   "id": "36e633ea",
   "metadata": {},
   "source": [
    "# 3. Zastosowanie modelu regresji logistycznej\n",
    "> https://scikit-learn.org/stable/modules/generated/sklearn.linear_model.LogisticRegression.html"
   ]
  },
  {
   "cell_type": "code",
   "execution_count": 8,
   "id": "865548e4",
   "metadata": {},
   "outputs": [
    {
     "data": {
      "text/html": [
       "<style>#sk-container-id-1 {color: black;background-color: white;}#sk-container-id-1 pre{padding: 0;}#sk-container-id-1 div.sk-toggleable {background-color: white;}#sk-container-id-1 label.sk-toggleable__label {cursor: pointer;display: block;width: 100%;margin-bottom: 0;padding: 0.3em;box-sizing: border-box;text-align: center;}#sk-container-id-1 label.sk-toggleable__label-arrow:before {content: \"▸\";float: left;margin-right: 0.25em;color: #696969;}#sk-container-id-1 label.sk-toggleable__label-arrow:hover:before {color: black;}#sk-container-id-1 div.sk-estimator:hover label.sk-toggleable__label-arrow:before {color: black;}#sk-container-id-1 div.sk-toggleable__content {max-height: 0;max-width: 0;overflow: hidden;text-align: left;background-color: #f0f8ff;}#sk-container-id-1 div.sk-toggleable__content pre {margin: 0.2em;color: black;border-radius: 0.25em;background-color: #f0f8ff;}#sk-container-id-1 input.sk-toggleable__control:checked~div.sk-toggleable__content {max-height: 200px;max-width: 100%;overflow: auto;}#sk-container-id-1 input.sk-toggleable__control:checked~label.sk-toggleable__label-arrow:before {content: \"▾\";}#sk-container-id-1 div.sk-estimator input.sk-toggleable__control:checked~label.sk-toggleable__label {background-color: #d4ebff;}#sk-container-id-1 div.sk-label input.sk-toggleable__control:checked~label.sk-toggleable__label {background-color: #d4ebff;}#sk-container-id-1 input.sk-hidden--visually {border: 0;clip: rect(1px 1px 1px 1px);clip: rect(1px, 1px, 1px, 1px);height: 1px;margin: -1px;overflow: hidden;padding: 0;position: absolute;width: 1px;}#sk-container-id-1 div.sk-estimator {font-family: monospace;background-color: #f0f8ff;border: 1px dotted black;border-radius: 0.25em;box-sizing: border-box;margin-bottom: 0.5em;}#sk-container-id-1 div.sk-estimator:hover {background-color: #d4ebff;}#sk-container-id-1 div.sk-parallel-item::after {content: \"\";width: 100%;border-bottom: 1px solid gray;flex-grow: 1;}#sk-container-id-1 div.sk-label:hover label.sk-toggleable__label {background-color: #d4ebff;}#sk-container-id-1 div.sk-serial::before {content: \"\";position: absolute;border-left: 1px solid gray;box-sizing: border-box;top: 0;bottom: 0;left: 50%;z-index: 0;}#sk-container-id-1 div.sk-serial {display: flex;flex-direction: column;align-items: center;background-color: white;padding-right: 0.2em;padding-left: 0.2em;position: relative;}#sk-container-id-1 div.sk-item {position: relative;z-index: 1;}#sk-container-id-1 div.sk-parallel {display: flex;align-items: stretch;justify-content: center;background-color: white;position: relative;}#sk-container-id-1 div.sk-item::before, #sk-container-id-1 div.sk-parallel-item::before {content: \"\";position: absolute;border-left: 1px solid gray;box-sizing: border-box;top: 0;bottom: 0;left: 50%;z-index: -1;}#sk-container-id-1 div.sk-parallel-item {display: flex;flex-direction: column;z-index: 1;position: relative;background-color: white;}#sk-container-id-1 div.sk-parallel-item:first-child::after {align-self: flex-end;width: 50%;}#sk-container-id-1 div.sk-parallel-item:last-child::after {align-self: flex-start;width: 50%;}#sk-container-id-1 div.sk-parallel-item:only-child::after {width: 0;}#sk-container-id-1 div.sk-dashed-wrapped {border: 1px dashed gray;margin: 0 0.4em 0.5em 0.4em;box-sizing: border-box;padding-bottom: 0.4em;background-color: white;}#sk-container-id-1 div.sk-label label {font-family: monospace;font-weight: bold;display: inline-block;line-height: 1.2em;}#sk-container-id-1 div.sk-label-container {text-align: center;}#sk-container-id-1 div.sk-container {/* jupyter's `normalize.less` sets `[hidden] { display: none; }` but bootstrap.min.css set `[hidden] { display: none !important; }` so we also need the `!important` here to be able to override the default hidden behavior on the sphinx rendered scikit-learn.org. See: https://github.com/scikit-learn/scikit-learn/issues/21755 */display: inline-block !important;position: relative;}#sk-container-id-1 div.sk-text-repr-fallback {display: none;}</style><div id=\"sk-container-id-1\" class=\"sk-top-container\"><div class=\"sk-text-repr-fallback\"><pre>LogisticRegression(C=1, random_state=0, solver=&#x27;liblinear&#x27;)</pre><b>In a Jupyter environment, please rerun this cell to show the HTML representation or trust the notebook. <br />On GitHub, the HTML representation is unable to render, please try loading this page with nbviewer.org.</b></div><div class=\"sk-container\" hidden><div class=\"sk-item\"><div class=\"sk-estimator sk-toggleable\"><input class=\"sk-toggleable__control sk-hidden--visually\" id=\"sk-estimator-id-1\" type=\"checkbox\" checked><label for=\"sk-estimator-id-1\" class=\"sk-toggleable__label sk-toggleable__label-arrow\">LogisticRegression</label><div class=\"sk-toggleable__content\"><pre>LogisticRegression(C=1, random_state=0, solver=&#x27;liblinear&#x27;)</pre></div></div></div></div></div>"
      ],
      "text/plain": [
       "LogisticRegression(C=1, random_state=0, solver='liblinear')"
      ]
     },
     "execution_count": 8,
     "metadata": {},
     "output_type": "execute_result"
    }
   ],
   "source": [
    "# utworzenie klasyfikatora (modelu) z zastosowaniem zadanych parametrów i pozostawieniem pozostałych domyślnych\n",
    "clf_lr = LogisticRegression(solver='liblinear', C=1, random_state=0) \n",
    "# dopasowanie modelu na zbiorze uczącym\n",
    "clf_lr.fit(X_train, y_train) # X - Training vector, y - target vector"
   ]
  },
  {
   "cell_type": "code",
   "execution_count": 25,
   "id": "6f95106d",
   "metadata": {},
   "outputs": [
    {
     "data": {
      "text/plain": [
       "{'C': 1,\n",
       " 'class_weight': None,\n",
       " 'dual': False,\n",
       " 'fit_intercept': True,\n",
       " 'intercept_scaling': 1,\n",
       " 'l1_ratio': None,\n",
       " 'max_iter': 100,\n",
       " 'multi_class': 'auto',\n",
       " 'n_jobs': None,\n",
       " 'penalty': 'l2',\n",
       " 'random_state': 0,\n",
       " 'solver': 'liblinear',\n",
       " 'tol': 0.0001,\n",
       " 'verbose': 0,\n",
       " 'warm_start': False}"
      ]
     },
     "execution_count": 25,
     "metadata": {},
     "output_type": "execute_result"
    }
   ],
   "source": [
    "clf_lr.get_params() # wszystkie parametru modelu (łącznie z domyślnymi)"
   ]
  },
  {
   "cell_type": "code",
   "execution_count": 10,
   "id": "51362cf5",
   "metadata": {},
   "outputs": [
    {
     "data": {
      "text/plain": [
       "array([1, 1, 0, 1, 1, 1, 1, 1, 1, 1, 1, 0, 1, 1, 1, 1, 1, 0, 1, 0, 1, 1,\n",
       "       1, 1, 1, 0, 1, 1, 0, 1, 1, 1, 0, 1, 0, 1, 1, 1, 1, 1], dtype=int64)"
      ]
     },
     "execution_count": 10,
     "metadata": {},
     "output_type": "execute_result"
    }
   ],
   "source": [
    "# przewidujemy wartość dla całego zbioru X\n",
    "# otrzymujemy predykcję zbioru X, sklasyfikowanego na wartości 0/1 mówiące nam czy dany rekord jest umeblowany czy nie\n",
    "clf_lr.predict(X)[10:50]"
   ]
  },
  {
   "cell_type": "code",
   "execution_count": 11,
   "id": "c0bfae01",
   "metadata": {},
   "outputs": [
    {
     "data": {
      "text/plain": [
       "array([[0.02634491, 0.97365509],\n",
       "       [0.45673658, 0.54326342],\n",
       "       [0.56143001, 0.43856999],\n",
       "       ...,\n",
       "       [0.00277152, 0.99722848],\n",
       "       [0.00441459, 0.99558541],\n",
       "       [0.52575878, 0.47424122]])"
      ]
     },
     "execution_count": 11,
     "metadata": {},
     "output_type": "execute_result"
    }
   ],
   "source": [
    "# oszacowanie prawdopodobieństwa dopasowania\n",
    "probability = clf_lr.predict_proba(X) # pierwsza kolumna to nasze y=0, druga y=1\n",
    "probability"
   ]
  },
  {
   "cell_type": "code",
   "execution_count": 35,
   "id": "2398b37f",
   "metadata": {},
   "outputs": [
    {
     "data": {
      "text/plain": [
       "(array([  81,  181,  292,  405,  411,  578,  599,  667,  747,  840,  846,\n",
       "         886,  907,  914,  968, 1067, 1082, 1367, 1496, 1507, 1607, 1625,\n",
       "        1691, 1709, 1752, 1936, 2152, 2319, 2321, 2433, 2503, 2531, 2542,\n",
       "        2576, 2658, 2731, 2779, 2845, 2878, 3015, 3095, 3390, 3601, 3749,\n",
       "        3761, 3799, 3851, 3906, 4012, 4026, 4045, 4229, 4365, 4382, 4571,\n",
       "        4805, 4985, 5000, 5014, 5067, 5109, 5188, 5209, 5215, 5376, 5377,\n",
       "        5455, 5477, 5527, 5533, 5604, 5688, 5961, 6004, 6149, 6180, 6222,\n",
       "        6495, 6505, 6545, 6567, 6705, 6779, 6794, 6888, 6946, 7296, 7435,\n",
       "        7498, 7499, 7603, 7672, 7695, 7831, 7849, 7887, 7910, 8114, 8218,\n",
       "        8272, 8311, 8337, 8386, 8442, 8443, 8444, 8447, 8448], dtype=int64),)"
      ]
     },
     "execution_count": 35,
     "metadata": {},
     "output_type": "execute_result"
    }
   ],
   "source": [
    "# możemy dokonać przeglądu prawdopodobieństwa, wyszukując rekordy, których prawdopodobieństwo poprawności dopasowania zawiera się w pewnym przedziale\n",
    "np.where(np.logical_and(probability[:,0]>=0.45, probability[:,0]<=0.55))"
   ]
  },
  {
   "cell_type": "code",
   "execution_count": 36,
   "id": "356faf69",
   "metadata": {},
   "outputs": [
    {
     "data": {
      "text/plain": [
       "array([0.45152285, 0.54847715])"
      ]
     },
     "execution_count": 36,
     "metadata": {},
     "output_type": "execute_result"
    }
   ],
   "source": [
    "# możemy podejrzeć konkretny rekord\n",
    "probability[81]"
   ]
  },
  {
   "cell_type": "code",
   "execution_count": 42,
   "id": "a8ca7959",
   "metadata": {},
   "outputs": [
    {
     "data": {
      "text/plain": [
       "1679"
      ]
     },
     "execution_count": 42,
     "metadata": {},
     "output_type": "execute_result"
    }
   ],
   "source": [
    "# możemy sprawdzić ile jest rekordów z określonym prawdopodobieństwem\n",
    "len(np.where(probability[:,0]>=0.85)[0])"
   ]
  },
  {
   "cell_type": "code",
   "execution_count": 10,
   "id": "3131110c",
   "metadata": {},
   "outputs": [
    {
     "data": {
      "text/plain": [
       "0.9949109414758269"
      ]
     },
     "execution_count": 10,
     "metadata": {},
     "output_type": "execute_result"
    }
   ],
   "source": [
    "# wynik na zbiorze na którym się uczył jest bliski 1, ponieważ te dane zna w 100%\n",
    "# score mówi nam o tym ile rekordów ma dobrze trafioną przewidywaną zmienną\n",
    "# ile % ofert (X) model przewidział tak samo jak zostało to ręcznie sklasyfikowane (w wektorze y)\n",
    "clf_lr.score(X_train, y_train) \n"
   ]
  },
  {
   "cell_type": "markdown",
   "id": "f3ef04ab",
   "metadata": {},
   "source": [
    "### what is score?: \n",
    "> https://scikit-learn.org/stable/modules/generated/sklearn.linear_model.LogisticRegression.html#sklearn.linear_model.LogisticRegression.score"
   ]
  },
  {
   "cell_type": "code",
   "execution_count": 12,
   "id": "2a4839ab",
   "metadata": {},
   "outputs": [
    {
     "data": {
      "text/plain": [
       "0.7858464384828863"
      ]
     },
     "execution_count": 12,
     "metadata": {},
     "output_type": "execute_result"
    }
   ],
   "source": [
    "# wynik na zbiorze walidacyjnym, daje nam informację jak model radzi sobie z danymi, których teoretycznie nie widział\n",
    "clf_lr.score(X_val, y_val)"
   ]
  },
  {
   "cell_type": "code",
   "execution_count": 13,
   "id": "50c032e8",
   "metadata": {},
   "outputs": [
    {
     "data": {
      "text/plain": [
       "0.7848218417399352"
      ]
     },
     "execution_count": 13,
     "metadata": {},
     "output_type": "execute_result"
    }
   ],
   "source": [
    "# wynik na zbiorze testowym to ostateczny sprawdzian jakości dopasowania modelu (na kolejnym nie znanym modelowi zbiorze)\n",
    "clf_lr.score(X_test, y_test) # w 85% przypadków model przewidział poprawnie szacowaną wartość"
   ]
  },
  {
   "cell_type": "markdown",
   "id": "f65ed6fd",
   "metadata": {},
   "source": [
    "## jakie mogą być błędy na tym etapie?\n",
    "> zbiór ze zbyt dużą liczbą zduplikowanych wartości pomiędzy zbiorem uczącym a testowym - przewiduje dobrze, bo dostaje dane które już zna"
   ]
  },
  {
   "cell_type": "markdown",
   "id": "c730d321",
   "metadata": {},
   "source": [
    "## jak poprawnie podzielić zbiór?\n",
    "> by partitioning the available data into three sets, we drastically reduce the number of samples \n",
    "which can be used for learning the model, and the results can depend on a particular random choice \n",
    "for the pair of (train, validation) sets."
   ]
  },
  {
   "cell_type": "markdown",
   "id": "5bf47087",
   "metadata": {},
   "source": [
    "> A solution to this problem is a procedure called cross-validation (CV for short). A test set should still be held out for final evaluation, but the validation set is no longer needed when doing CV"
   ]
  },
  {
   "cell_type": "markdown",
   "id": "502f589e",
   "metadata": {},
   "source": [
    "# 4. Cross validation\n",
    "### metoda usprawniająca proces dopasowania modelu\n",
    "> https://scikit-learn.org/stable/modules/cross_validation.html#cross-validation </br>\n",
    "> https://scikit-learn.org/stable/modules/generated/sklearn.model_selection.cross_val_score.html\n",
    "### wracamy do momentu po kroku 1. (nie wykonujemy pkt. 2-3)"
   ]
  },
  {
   "cell_type": "code",
   "execution_count": 16,
   "id": "d40f9763",
   "metadata": {},
   "outputs": [
    {
     "data": {
      "text/plain": [
       "array([0.75953757, 0.77803468, 0.78728324, 0.77572254, 0.76531792,\n",
       "       0.72947977, 0.78703704, 0.74537037, 0.80092593, 0.76041667])"
      ]
     },
     "execution_count": 16,
     "metadata": {},
     "output_type": "execute_result"
    }
   ],
   "source": [
    "from sklearn.model_selection import cross_val_score\n",
    "clf_lr = LogisticRegression(solver='liblinear', C=1, random_state=0)\n",
    "# poniższa funkcja ma wbudowane dopasowanie (fit) modelu, więc nie ma fit wcześniej, ani nie wydzielamy zbioru testowego\n",
    "scores_lr = cross_val_score(clf_lr, X, y, cv=5) \n",
    "scores_lr"
   ]
  },
  {
   "cell_type": "code",
   "execution_count": 17,
   "id": "c2632fbc",
   "metadata": {},
   "outputs": [
    {
     "name": "stdout",
     "output_type": "stream",
     "text": [
      "0.769 accuracy with a standard deviation of 0.02\n"
     ]
    }
   ],
   "source": [
    "# możemy sprawdzić jaka jest ogólna wartość Accuracy dla modelu\n",
    "print(\"%0.3f accuracy with a standard deviation of %0.2f\" % (scores_lr.mean(), scores_lr.std())) \n",
    "# accuracy to średnia z wyników cross-validation"
   ]
  },
  {
   "cell_type": "markdown",
   "id": "ea328187",
   "metadata": {},
   "source": [
    "![Alt text](https://scikit-learn.org/stable/_images/grid_search_cross_validation.png)"
   ]
  },
  {
   "cell_type": "markdown",
   "id": "523bcaeb",
   "metadata": {},
   "source": [
    "### domyślnie cross_val_score liczy accuracy, ale możemy zastosować inne mierniki\n"
   ]
  },
  {
   "cell_type": "code",
   "execution_count": 88,
   "id": "1ba64936",
   "metadata": {},
   "outputs": [
    {
     "name": "stdout",
     "output_type": "stream",
     "text": [
      "[0.78807801 0.8195717  0.7800411  0.7672306  0.78327854]\n",
      "0.7876399916083164\n"
     ]
    }
   ],
   "source": [
    "scores_lr = cross_val_score(clf_lr, X, y, cv=5, scoring='f1_macro')\n",
    "print(scores_lr)\n",
    "print(scores_lr.mean())"
   ]
  },
  {
   "cell_type": "code",
   "execution_count": 86,
   "id": "77d5e1af",
   "metadata": {},
   "outputs": [
    {
     "name": "stdout",
     "output_type": "stream",
     "text": [
      "['accuracy', 'adjusted_mutual_info_score', 'adjusted_rand_score', 'average_precision', 'balanced_accuracy', 'completeness_score', 'explained_variance', 'f1', 'f1_macro', 'f1_micro', 'f1_samples', 'f1_weighted', 'fowlkes_mallows_score', 'homogeneity_score', 'jaccard', 'jaccard_macro', 'jaccard_micro', 'jaccard_samples', 'jaccard_weighted', 'matthews_corrcoef', 'max_error', 'mutual_info_score', 'neg_brier_score', 'neg_log_loss', 'neg_mean_absolute_error', 'neg_mean_absolute_percentage_error', 'neg_mean_gamma_deviance', 'neg_mean_poisson_deviance', 'neg_mean_squared_error', 'neg_mean_squared_log_error', 'neg_median_absolute_error', 'neg_negative_likelihood_ratio', 'neg_root_mean_squared_error', 'normalized_mutual_info_score', 'positive_likelihood_ratio', 'precision', 'precision_macro', 'precision_micro', 'precision_samples', 'precision_weighted', 'r2', 'rand_score', 'recall', 'recall_macro', 'recall_micro', 'recall_samples', 'recall_weighted', 'roc_auc', 'roc_auc_ovo', 'roc_auc_ovo_weighted', 'roc_auc_ovr', 'roc_auc_ovr_weighted', 'top_k_accuracy', 'v_measure_score']\n"
     ]
    }
   ],
   "source": [
    "# wyświetlam wszystkie możliwe mierniki, które możemy zastosować w zależności od potrzeb\n",
    "from sklearn.metrics import get_scorer_names\n",
    "print(get_scorer_names())"
   ]
  },
  {
   "cell_type": "markdown",
   "id": "7f5beb14",
   "metadata": {},
   "source": [
    "### możemy też nie ograniczać oceny do jednego miernika\n",
    "> https://scikit-learn.org/stable/modules/generated/sklearn.model_selection.cross_validate.html"
   ]
  },
  {
   "cell_type": "code",
   "execution_count": 52,
   "id": "2c7516cf",
   "metadata": {},
   "outputs": [
    {
     "data": {
      "text/plain": [
       "{'fit_time': array([0.77837205, 0.73545122, 0.68654013, 0.68720508, 0.81228209]),\n",
       " 'score_time': array([0.03120041, 0.03182149, 0.01778722, 0.0312407 , 0.03125381]),\n",
       " 'test_accuracy': array([0.82716763, 0.85887796, 0.83458647, 0.81781377, 0.83516484]),\n",
       " 'test_r2': array([0.11209868, 0.27527409, 0.15052618, 0.06439072, 0.15349637]),\n",
       " 'test_neg_mean_squared_error': array([-0.17283237, -0.14112204, -0.16541353, -0.18218623, -0.16483516])}"
      ]
     },
     "execution_count": 52,
     "metadata": {},
     "output_type": "execute_result"
    }
   ],
   "source": [
    "from sklearn.model_selection import cross_validate\n",
    "scores_lr = cross_validate(clf_lr, X, y, cv=5, scoring=('accuracy', 'r2', 'neg_mean_squared_error'))\n",
    "scores_lr\n"
   ]
  },
  {
   "cell_type": "code",
   "execution_count": 55,
   "id": "2f5a599a",
   "metadata": {},
   "outputs": [
    {
     "name": "stdout",
     "output_type": "stream",
     "text": [
      "accuracy = 0.8347221321422721\n"
     ]
    }
   ],
   "source": [
    "print('accuracy =', scores_lr['test_accuracy'].mean())\n"
   ]
  },
  {
   "cell_type": "markdown",
   "id": "958f10c0",
   "metadata": {},
   "source": [
    "# 5. GridSearchCV\n",
    "\n",
    "### Powyższe podejścia były próbą trafienia ręcznie wyznaczonych parametrów modelu. Żeby proces ten przyspieszyć, możemy zastosować GridSearchCV do poszukiwania najlepszego zestawienia parametrów spośród narzuconych przestrzeni"
   ]
  },
  {
   "cell_type": "markdown",
   "id": "ae5638c0",
   "metadata": {},
   "source": [
    "> GridSearch ma wbudownay parametr do cros-walidacji"
   ]
  },
  {
   "cell_type": "code",
   "execution_count": 18,
   "id": "0153901b",
   "metadata": {},
   "outputs": [],
   "source": [
    "# zostawiamy fragment na zbiór testowy\n",
    "X_train, X_test, y_train, y_test = train_test_split(X, y, test_size=0.20, random_state=0)"
   ]
  },
  {
   "cell_type": "code",
   "execution_count": 19,
   "id": "ffbf9948",
   "metadata": {},
   "outputs": [],
   "source": [
    "# ograniczamy przestrzeń poszukiwań do pewnego zestawu wartości poszczególnych parametrów\n",
    "param_grid = [\n",
    "              {'C': [0.1, 1], \n",
    "               'fit_intercept' : [False], \n",
    "               'class_weight' : [None],\n",
    "               'random_state' : [0], \n",
    "               'solver' : ['lbfgs'] #, 'liblinear', 'newton-cg', 'sag', 'saga'\n",
    "              } \n",
    "              ]"
   ]
  },
  {
   "cell_type": "markdown",
   "id": "410a15cc",
   "metadata": {},
   "source": [
    "### GridSearchCV będzie przeszukiwał wszystkie możliwe kombinacje parametrów z nakreślonej przestrzeni i dopasowywał każdorazowo model"
   ]
  },
  {
   "cell_type": "code",
   "execution_count": 20,
   "id": "a5cc4d44",
   "metadata": {},
   "outputs": [
    {
     "name": "stdout",
     "output_type": "stream",
     "text": [
      "Fitting 5 folds for each of 2 candidates, totalling 10 fits\n",
      "Fitting done in 0 min 7 sec\n"
     ]
    }
   ],
   "source": [
    "import time\n",
    "import math\n",
    "# wstawiam dodatkowo zliczenie czasu wykonywania dopasowania. im większa przestrzeń tym dłuższe poszukiwanie.\n",
    "start = time.time()\n",
    "\n",
    "clf = GridSearchCV(LogisticRegression(), param_grid, cv=5, n_jobs=5, verbose=2) \n",
    "clf.fit(X_train,y_train)\n",
    "\n",
    "end = time.time()\n",
    "elapsed = end-start\n",
    "print(f'Fitting done in {math.trunc(elapsed/60)} min {math.trunc(round(elapsed%60,0))} sec')"
   ]
  },
  {
   "cell_type": "code",
   "execution_count": 21,
   "id": "c13ddbb6",
   "metadata": {},
   "outputs": [
    {
     "data": {
      "text/plain": [
       "{'C': 1,\n",
       " 'class_weight': None,\n",
       " 'fit_intercept': False,\n",
       " 'random_state': 0,\n",
       " 'solver': 'lbfgs'}"
      ]
     },
     "execution_count": 21,
     "metadata": {},
     "output_type": "execute_result"
    }
   ],
   "source": [
    "# najlepszy zestaw parametrów\n",
    "clf.best_params_"
   ]
  },
  {
   "cell_type": "code",
   "execution_count": 22,
   "id": "6f7d9542",
   "metadata": {},
   "outputs": [
    {
     "data": {
      "text/html": [
       "<div>\n",
       "<style scoped>\n",
       "    .dataframe tbody tr th:only-of-type {\n",
       "        vertical-align: middle;\n",
       "    }\n",
       "\n",
       "    .dataframe tbody tr th {\n",
       "        vertical-align: top;\n",
       "    }\n",
       "\n",
       "    .dataframe thead th {\n",
       "        text-align: right;\n",
       "    }\n",
       "</style>\n",
       "<table border=\"1\" class=\"dataframe\">\n",
       "  <thead>\n",
       "    <tr style=\"text-align: right;\">\n",
       "      <th></th>\n",
       "      <th>mean_fit_time</th>\n",
       "      <th>std_fit_time</th>\n",
       "      <th>mean_score_time</th>\n",
       "      <th>std_score_time</th>\n",
       "      <th>param_C</th>\n",
       "      <th>param_class_weight</th>\n",
       "      <th>param_fit_intercept</th>\n",
       "      <th>param_random_state</th>\n",
       "      <th>param_solver</th>\n",
       "      <th>params</th>\n",
       "      <th>split0_test_score</th>\n",
       "      <th>split1_test_score</th>\n",
       "      <th>split2_test_score</th>\n",
       "      <th>split3_test_score</th>\n",
       "      <th>split4_test_score</th>\n",
       "      <th>mean_test_score</th>\n",
       "      <th>std_test_score</th>\n",
       "      <th>rank_test_score</th>\n",
       "    </tr>\n",
       "  </thead>\n",
       "  <tbody>\n",
       "    <tr>\n",
       "      <th>0</th>\n",
       "      <td>0.078232</td>\n",
       "      <td>0.039461</td>\n",
       "      <td>0.000000</td>\n",
       "      <td>0.000000</td>\n",
       "      <td>0.1</td>\n",
       "      <td>None</td>\n",
       "      <td>False</td>\n",
       "      <td>0</td>\n",
       "      <td>lbfgs</td>\n",
       "      <td>{'C': 0.1, 'class_weight': None, 'fit_intercep...</td>\n",
       "      <td>0.784682</td>\n",
       "      <td>0.768619</td>\n",
       "      <td>0.775127</td>\n",
       "      <td>0.783803</td>\n",
       "      <td>0.785249</td>\n",
       "      <td>0.779496</td>\n",
       "      <td>0.006572</td>\n",
       "      <td>2</td>\n",
       "    </tr>\n",
       "    <tr>\n",
       "      <th>1</th>\n",
       "      <td>0.140610</td>\n",
       "      <td>0.038257</td>\n",
       "      <td>0.003127</td>\n",
       "      <td>0.006254</td>\n",
       "      <td>1</td>\n",
       "      <td>None</td>\n",
       "      <td>False</td>\n",
       "      <td>0</td>\n",
       "      <td>lbfgs</td>\n",
       "      <td>{'C': 1, 'class_weight': None, 'fit_intercept'...</td>\n",
       "      <td>0.785405</td>\n",
       "      <td>0.773680</td>\n",
       "      <td>0.778742</td>\n",
       "      <td>0.788865</td>\n",
       "      <td>0.779465</td>\n",
       "      <td>0.781231</td>\n",
       "      <td>0.005330</td>\n",
       "      <td>1</td>\n",
       "    </tr>\n",
       "  </tbody>\n",
       "</table>\n",
       "</div>"
      ],
      "text/plain": [
       "   mean_fit_time  std_fit_time  mean_score_time  std_score_time param_C  \\\n",
       "0       0.078232      0.039461         0.000000        0.000000     0.1   \n",
       "1       0.140610      0.038257         0.003127        0.006254       1   \n",
       "\n",
       "  param_class_weight param_fit_intercept param_random_state param_solver  \\\n",
       "0               None               False                  0        lbfgs   \n",
       "1               None               False                  0        lbfgs   \n",
       "\n",
       "                                              params  split0_test_score  \\\n",
       "0  {'C': 0.1, 'class_weight': None, 'fit_intercep...           0.784682   \n",
       "1  {'C': 1, 'class_weight': None, 'fit_intercept'...           0.785405   \n",
       "\n",
       "   split1_test_score  split2_test_score  split3_test_score  split4_test_score  \\\n",
       "0           0.768619           0.775127           0.783803           0.785249   \n",
       "1           0.773680           0.778742           0.788865           0.779465   \n",
       "\n",
       "   mean_test_score  std_test_score  rank_test_score  \n",
       "0         0.779496        0.006572                2  \n",
       "1         0.781231        0.005330                1  "
      ]
     },
     "execution_count": 22,
     "metadata": {},
     "output_type": "execute_result"
    }
   ],
   "source": [
    "# zestawienie wyników poszczególnych dopasowań dla zadanych zestawów parametrów\n",
    "pd.DataFrame.from_dict(clf.cv_results_)"
   ]
  },
  {
   "cell_type": "code",
   "execution_count": 17,
   "id": "11f0dfde",
   "metadata": {},
   "outputs": [
    {
     "data": {
      "text/html": [
       "<style>#sk-container-id-1 {color: black;background-color: white;}#sk-container-id-1 pre{padding: 0;}#sk-container-id-1 div.sk-toggleable {background-color: white;}#sk-container-id-1 label.sk-toggleable__label {cursor: pointer;display: block;width: 100%;margin-bottom: 0;padding: 0.3em;box-sizing: border-box;text-align: center;}#sk-container-id-1 label.sk-toggleable__label-arrow:before {content: \"▸\";float: left;margin-right: 0.25em;color: #696969;}#sk-container-id-1 label.sk-toggleable__label-arrow:hover:before {color: black;}#sk-container-id-1 div.sk-estimator:hover label.sk-toggleable__label-arrow:before {color: black;}#sk-container-id-1 div.sk-toggleable__content {max-height: 0;max-width: 0;overflow: hidden;text-align: left;background-color: #f0f8ff;}#sk-container-id-1 div.sk-toggleable__content pre {margin: 0.2em;color: black;border-radius: 0.25em;background-color: #f0f8ff;}#sk-container-id-1 input.sk-toggleable__control:checked~div.sk-toggleable__content {max-height: 200px;max-width: 100%;overflow: auto;}#sk-container-id-1 input.sk-toggleable__control:checked~label.sk-toggleable__label-arrow:before {content: \"▾\";}#sk-container-id-1 div.sk-estimator input.sk-toggleable__control:checked~label.sk-toggleable__label {background-color: #d4ebff;}#sk-container-id-1 div.sk-label input.sk-toggleable__control:checked~label.sk-toggleable__label {background-color: #d4ebff;}#sk-container-id-1 input.sk-hidden--visually {border: 0;clip: rect(1px 1px 1px 1px);clip: rect(1px, 1px, 1px, 1px);height: 1px;margin: -1px;overflow: hidden;padding: 0;position: absolute;width: 1px;}#sk-container-id-1 div.sk-estimator {font-family: monospace;background-color: #f0f8ff;border: 1px dotted black;border-radius: 0.25em;box-sizing: border-box;margin-bottom: 0.5em;}#sk-container-id-1 div.sk-estimator:hover {background-color: #d4ebff;}#sk-container-id-1 div.sk-parallel-item::after {content: \"\";width: 100%;border-bottom: 1px solid gray;flex-grow: 1;}#sk-container-id-1 div.sk-label:hover label.sk-toggleable__label {background-color: #d4ebff;}#sk-container-id-1 div.sk-serial::before {content: \"\";position: absolute;border-left: 1px solid gray;box-sizing: border-box;top: 0;bottom: 0;left: 50%;z-index: 0;}#sk-container-id-1 div.sk-serial {display: flex;flex-direction: column;align-items: center;background-color: white;padding-right: 0.2em;padding-left: 0.2em;position: relative;}#sk-container-id-1 div.sk-item {position: relative;z-index: 1;}#sk-container-id-1 div.sk-parallel {display: flex;align-items: stretch;justify-content: center;background-color: white;position: relative;}#sk-container-id-1 div.sk-item::before, #sk-container-id-1 div.sk-parallel-item::before {content: \"\";position: absolute;border-left: 1px solid gray;box-sizing: border-box;top: 0;bottom: 0;left: 50%;z-index: -1;}#sk-container-id-1 div.sk-parallel-item {display: flex;flex-direction: column;z-index: 1;position: relative;background-color: white;}#sk-container-id-1 div.sk-parallel-item:first-child::after {align-self: flex-end;width: 50%;}#sk-container-id-1 div.sk-parallel-item:last-child::after {align-self: flex-start;width: 50%;}#sk-container-id-1 div.sk-parallel-item:only-child::after {width: 0;}#sk-container-id-1 div.sk-dashed-wrapped {border: 1px dashed gray;margin: 0 0.4em 0.5em 0.4em;box-sizing: border-box;padding-bottom: 0.4em;background-color: white;}#sk-container-id-1 div.sk-label label {font-family: monospace;font-weight: bold;display: inline-block;line-height: 1.2em;}#sk-container-id-1 div.sk-label-container {text-align: center;}#sk-container-id-1 div.sk-container {/* jupyter's `normalize.less` sets `[hidden] { display: none; }` but bootstrap.min.css set `[hidden] { display: none !important; }` so we also need the `!important` here to be able to override the default hidden behavior on the sphinx rendered scikit-learn.org. See: https://github.com/scikit-learn/scikit-learn/issues/21755 */display: inline-block !important;position: relative;}#sk-container-id-1 div.sk-text-repr-fallback {display: none;}</style><div id=\"sk-container-id-1\" class=\"sk-top-container\"><div class=\"sk-text-repr-fallback\"><pre>LogisticRegression(C=0.1, random_state=0)</pre><b>In a Jupyter environment, please rerun this cell to show the HTML representation or trust the notebook. <br />On GitHub, the HTML representation is unable to render, please try loading this page with nbviewer.org.</b></div><div class=\"sk-container\" hidden><div class=\"sk-item\"><div class=\"sk-estimator sk-toggleable\"><input class=\"sk-toggleable__control sk-hidden--visually\" id=\"sk-estimator-id-1\" type=\"checkbox\" checked><label for=\"sk-estimator-id-1\" class=\"sk-toggleable__label sk-toggleable__label-arrow\">LogisticRegression</label><div class=\"sk-toggleable__content\"><pre>LogisticRegression(C=0.1, random_state=0)</pre></div></div></div></div></div>"
      ],
      "text/plain": [
       "LogisticRegression(C=0.1, random_state=0)"
      ]
     },
     "execution_count": 17,
     "metadata": {},
     "output_type": "execute_result"
    }
   ],
   "source": [
    "clf.best_estimator_"
   ]
  },
  {
   "cell_type": "code",
   "execution_count": 23,
   "id": "d347ae40",
   "metadata": {},
   "outputs": [
    {
     "data": {
      "text/plain": [
       "0.7812313225416807"
      ]
     },
     "execution_count": 23,
     "metadata": {},
     "output_type": "execute_result"
    }
   ],
   "source": [
    "clf.best_score_ # Mean cross-validated score of the best_estimator"
   ]
  },
  {
   "cell_type": "code",
   "execution_count": 24,
   "id": "27a33e15",
   "metadata": {},
   "outputs": [
    {
     "data": {
      "text/plain": [
       "0.7820809248554913"
      ]
     },
     "execution_count": 24,
     "metadata": {},
     "output_type": "execute_result"
    }
   ],
   "source": [
    "# wynik na zbiorze testowym\n",
    "clf.score(X_test, y_test)"
   ]
  },
  {
   "cell_type": "markdown",
   "id": "99bef7b0",
   "metadata": {},
   "source": [
    "# 6. Co teraz?\n",
    "### testujemy budowę modelu"
   ]
  },
  {
   "cell_type": "markdown",
   "id": "72c35b92",
   "metadata": {},
   "source": [
    "1. zastosujmy jeden wspólny random state = 0\n",
    "2. zastosujmy SVM i RandomForest, ew. Naive Bayes\n",
    "2. testujcie z użyciem cross-validacji i bez\n",
    "3. analizujcie wyniki na poziomie jednostkowym oraz mierniki modelu\n",
    "4. zmieniajcie parametry\n",
    "6. możecie eksperymentować z RandomizedSearchCV lub BayesSearchCV\n",
    "\n",
    "* https://scikit-optimize.github.io/stable/modules/generated/skopt.BayesSearchCV.html\n",
    "* https://scikit-learn.org/stable/modules/generated/sklearn.model_selection.RandomizedSearchCV.html\n"
   ]
  },
  {
   "cell_type": "code",
   "execution_count": null,
   "id": "5f2c82c0",
   "metadata": {},
   "outputs": [],
   "source": []
  }
 ],
 "metadata": {
  "kernelspec": {
   "display_name": "Python 3 (ipykernel)",
   "language": "python",
   "name": "python3"
  },
  "language_info": {
   "codemirror_mode": {
    "name": "ipython",
    "version": 3
   },
   "file_extension": ".py",
   "mimetype": "text/x-python",
   "name": "python",
   "nbconvert_exporter": "python",
   "pygments_lexer": "ipython3",
   "version": "3.8.6"
  }
 },
 "nbformat": 4,
 "nbformat_minor": 5
}
