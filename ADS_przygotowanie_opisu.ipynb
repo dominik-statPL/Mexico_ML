{
 "cells": [
  {
   "cell_type": "markdown",
   "id": "6492d9d3",
   "metadata": {},
   "source": [
    "### Elementy przygotowania danych do wdrożenia modelu\n",
    "\n",
    "Ten program przeprowadza przez etapy przygotowania opisu tekstowego przy wykorzystaniu funkcjonalności bibliotek Spacy i sklearn.\n",
    "> Nie należy tego programu traktować jako wynywalnego od góry do dołu, ponieważ zawiera on w sobie prezentacje zastosowania różnych podejść, które należy rozważyć w trakcie przygotowywania modelu.\n"
   ]
  },
  {
   "cell_type": "markdown",
   "id": "8e000d82",
   "metadata": {},
   "source": [
    "### Instalacja"
   ]
  },
  {
   "cell_type": "code",
   "execution_count": 1,
   "id": "aa022b7c",
   "metadata": {},
   "outputs": [],
   "source": [
    "# ładowanie podstawowych bibliotek \n",
    "\n",
    "import pyodbc # do łączenia się z bazą np. SQL\n",
    "import pandas as pd\n",
    "import numpy as np\n",
    "import matplotlib.pyplot as plt\n",
    "import spacy # do NLP https://pypi.org/project/spacy/\n",
    "import re # wyrażenia regularne\n",
    "import pickle # https://docs.python.org/3/library/pickle.html\n",
    "import os # do obsługi systemu https://docs.python.org/3/library/os.html"
   ]
  },
  {
   "cell_type": "markdown",
   "id": "a322298e",
   "metadata": {},
   "source": [
    "Po instalacji biblioteki spacy potrzebny nam jest dodatkowy moduł obsługujący język polski. \n",
    "<br> Instalujemy go z terminala PyCharm poleceniem: python -m spacy download pl_core_news_sm.\n",
    "> Uwaga: W bibliotece Spacy są trzy moduły do obsługi języka polskiego. \n",
    "<br>     Dokumentacja na stronie : https://spacy.io/models/pl. \n",
    "\n",
    "Moduł, który wybrałem jest wg. dokumentacji najmniejszy i działa jak na moje potrzeby OK. Stąd decyzja ten a nie inny. "
   ]
  },
  {
   "cell_type": "markdown",
   "id": "4e6fbe7d",
   "metadata": {},
   "source": [
    "### Pobranie danych z servera"
   ]
  },
  {
   "cell_type": "code",
   "execution_count": 2,
   "id": "328abcbc",
   "metadata": {},
   "outputs": [
    {
     "data": {
      "text/plain": [
       "'C:\\\\Users\\\\DabrowskiD\\\\PycharmProjects\\\\Jupyter\\\\venv\\\\dokumentacja ML'"
      ]
     },
     "execution_count": 2,
     "metadata": {},
     "output_type": "execute_result"
    }
   ],
   "source": [
    "os.getcwd()"
   ]
  },
  {
   "cell_type": "markdown",
   "id": "2db4c574",
   "metadata": {},
   "source": [
    "### w poniższym spróbujcie zrobić tak żeby lokalizację zbioru brał automatycznie z wyniku powyższej funkcji ;)"
   ]
  },
  {
   "cell_type": "code",
   "execution_count": 2,
   "id": "2e562991",
   "metadata": {},
   "outputs": [
    {
     "data": {
      "text/plain": [
       "array(['brak informacji', 'nie       ', 'tak       '], dtype=object)"
      ]
     },
     "execution_count": 2,
     "metadata": {},
     "output_type": "execute_result"
    }
   ],
   "source": [
    "# zmienna report.descr zawiera opisy nieruchomości wystawionych na sprzedaż\n",
    "# zmienna classification.kitch_class i secure_class to zaklasyfikowane ręcznie informacje\n",
    "a = 'model_df'\n",
    "df=pd.read_pickle(f'C:\\\\Users\\\\DabrowskiD\\\\PycharmProjects\\\\Jupyter\\\\venv\\\\MEBLE_ML\\\\regresja\\\\{a}.pkl')\n",
    "\n",
    "# Przegląd wartości znajdujących się w zmiennej  kitch_class\n",
    "\n",
    "labels = np.unique(df['furniture_class'])\n",
    "labels\n"
   ]
  },
  {
   "cell_type": "code",
   "execution_count": 3,
   "id": "0e0d1451",
   "metadata": {},
   "outputs": [
    {
     "data": {
      "text/plain": [
       "array(['nie       ', 'tak       '], dtype=object)"
      ]
     },
     "execution_count": 3,
     "metadata": {},
     "output_type": "execute_result"
    }
   ],
   "source": [
    "# ponieważ chcemy uzyskac odpowiedź na pytanie czy mieszkanie jest umeblowane to musimy się zastanowić jakie\n",
    "# informacje usunąć. Po zapoznaniu się z wynikami poprzedniego polecenia usuwam rekordy dla następujących warunków:\n",
    "# 'furniture_class' == 'brak informacji'\n",
    "# w ten sposób pozostawiamy tylko te wartości, które niosą konkretną informację odnośnie umeblowania\n",
    "\n",
    "df.drop(df.index[df['furniture_class'] == 'brak informacji'], inplace=True)\n",
    "labels = np.unique(df['furniture_class'])\n",
    "labels"
   ]
  },
  {
   "cell_type": "markdown",
   "id": "49cfcbb4",
   "metadata": {},
   "source": [
    "### Przygotowanie danych\n",
    "Przetwarzając dane w DF niestety jesteśmy ograniczeni jej właściwościami. Uruchamiając polecenie type(df['descr']) można zauwazyc, że w wyniku nie otrzymujemy informacji, że jest to string ale pandas.core.series.Series. I to przy przetwarzaniu nasuwa pewne ograniczenia. Można oczywiście przekonwertować informację zawartą w każdej celi na string i obrabiac dane ale cały proces jest nieefektywny i trwa bardzo długo. Stąd w obróbce danych będziemy wykorzystywać atrybuty serii DF a konkretnie dwa: str i apply w połączeniu z funkcjami lambda. \n"
   ]
  },
  {
   "cell_type": "code",
   "execution_count": 6,
   "id": "02b6a75a",
   "metadata": {},
   "outputs": [
    {
     "data": {
      "text/plain": [
       "pandas.core.series.Series"
      ]
     },
     "execution_count": 6,
     "metadata": {},
     "output_type": "execute_result"
    }
   ],
   "source": [
    "type(df['descr'])"
   ]
  },
  {
   "cell_type": "markdown",
   "id": "a61a6815",
   "metadata": {},
   "source": [
    "#### Konwersja na małe znaki. \n",
    "W przypadku tych danych wielkość liter nie ma wpływu na klasyfikację."
   ]
  },
  {
   "cell_type": "code",
   "execution_count": 4,
   "id": "15739da2",
   "metadata": {},
   "outputs": [
    {
     "data": {
      "text/plain": [
       "0     już dostępna kameralna kawalerka z klimatyzac...\n",
       "2     uwaga najem okazjonalny prosimy o kontakt tyl...\n",
       "4    m2 27m2 dąbrowa umeblowane wyposażone bliskość...\n",
       "5     nowoczesne mieszkanie po remoncie oferujemy d...\n",
       "6     oferuję do wynajęcia przepiękne świeżo wyremo...\n",
       "Name: descr, dtype: object"
      ]
     },
     "execution_count": 4,
     "metadata": {},
     "output_type": "execute_result"
    }
   ],
   "source": [
    "df['descr'] = df['descr'].str.lower()\n",
    "df['descr'].head()"
   ]
  },
  {
   "cell_type": "markdown",
   "id": "e2fc5fbf",
   "metadata": {},
   "source": [
    "#### Usuwanie zbędnych znaków"
   ]
  },
  {
   "cell_type": "markdown",
   "id": "8ade0c71",
   "metadata": {},
   "source": [
    "Wykorzystamy do tego Regex. \n",
    "> Co prawda dalsze etapy obróbki tekstu pozwalają na czyszczenie ale moim zdaniem, na wstępnym etapie, Regex robi to w sposób bardzie kontrolawany i kompleksowy w procesie ściśle definiowanym przez nas. Stąd ta wstępna obróbka. \n",
    "\n",
    "Usuniemy interpunkcję i inne dziwne znaki, które zostały wprowadzone przez przypadek. \n",
    "> Na marginesie: w regeksie podobno jest jakiś elegancki kod pozwalający uwzględnic polskie znaki ale nie chciało mi się szukać. Stąd prymitywne wymienienie ą, ę itd. jako znaki dodatkowe, które mają zostać w tekście."
   ]
  },
  {
   "cell_type": "code",
   "execution_count": 8,
   "id": "39611677",
   "metadata": {},
   "outputs": [],
   "source": [
    "df['descr'] = df['descr'].apply(lambda x: re.sub(r'[^A-Za-z0-9ąćęłńóśźżĄĆĘŁŃÓŚŹŻ]+',' ', str(x))) \n",
    "## dodatkowo dla chętnych - wyszukać regex do polskich znaków"
   ]
  },
  {
   "cell_type": "markdown",
   "id": "8f5b0cf7",
   "metadata": {},
   "source": [
    "#### Tokenizacja"
   ]
  },
  {
   "cell_type": "markdown",
   "id": "5acb1a36",
   "metadata": {},
   "source": [
    "Pamiętajmy o kolejności, warto zrobić tokenizację przed Stop Words. \n",
    "> Podobno NLTK (inna biblioteka) jest lepsza do tokenizacji, ale tu używamy Spacy. \n",
    "\n",
    "SpaCy posiada dużo opcji tokenizacji. \n",
    "> Poniższej celi nie należy wykonywać jeśli mamy zamiar używać CountVectorizer. CountVectorizer nie może bezpośrednio obsłużyć serii list, dlatego pojawia się błąd. Zamiast tego można użyć MultiLabelBinarizer, ale nie ma takiej potrzeby bo CV domyślnie dokonuje tokenizacji tekstu. Ponadto posiada szereg opcji, które ułatwiaja przygotowanie i transformację opisu o czym będzie dalej. \n",
    "\n",
    "Przykład dotyczy wykorzystania spacy do tokenizcji i został utworzony na wypadek gdyby ktoś konieczni chciał oprzeć się tylko o tą bibliotekę prz opracowywaniu tekstu."
   ]
  },
  {
   "cell_type": "code",
   "execution_count": 15,
   "id": "f7e315ec",
   "metadata": {},
   "outputs": [
    {
     "data": {
      "text/plain": [
       "0    ( , już, dostępna, kameralna, kawalerka, z, kl...\n",
       "2    ( , uwaga, najem, okazjonalny, prosimy, o, kon...\n",
       "4    (m2, 27m2, dąbrowa, umeblowane, wyposażone, bl...\n",
       "5    ( , nowoczesne, mieszkanie, po, remoncie, ofer...\n",
       "6    ( , oferuję, do, wynajęcia, przepiękne, świeżo...\n",
       "Name: descr, dtype: object"
      ]
     },
     "execution_count": 15,
     "metadata": {},
     "output_type": "execute_result"
    }
   ],
   "source": [
    "from spacy.lang.pl import Polish\n",
    "nlp = Polish()\n",
    "# Create a Tokenizer with the default settings for Polish\n",
    "# including punctuation rules and exceptions\n",
    "tokenizer = nlp.tokenizer\n",
    "df['descr'] =  df['descr'].apply(lambda x: tokenizer(x))\n",
    "df['descr'].head()"
   ]
  },
  {
   "cell_type": "markdown",
   "id": "43ef7125",
   "metadata": {},
   "source": [
    "#### Stop Words\n",
    "Czyli słowa, które nic nie wnoszą do opisu (w sensie budowy klasyfikacji), a przy tworzeniu modelu mogą wprowadzać szumy. \n",
    "Najczęściej występują w formie dokumentu tekstowego, w którym są wymienione słowa niepotrzebne z punktu widzenia treści. Oczywiście możemy definiować swój plik ze słowami niechcianymi i do niego się odwoływać. Stop words może byc też krótką listą zdefiniowaną przez nas. W poniższym kodzie odwołuję się do pliku zdefiniowanego w polskim modelu SpaCy. Najpierw ładuję polski model, a następnie przypisuję do zmiennej stopwords standardowy plik z modelu. Słownik ten wykorzystuję równiez w prosty sposób przy obróbce tekstu przez CountVectorizer."
   ]
  },
  {
   "cell_type": "code",
   "execution_count": 5,
   "id": "c96be0cb",
   "metadata": {},
   "outputs": [
    {
     "name": "stdout",
     "output_type": "stream",
     "text": [
      "<class 'set'>\n"
     ]
    }
   ],
   "source": [
    "# Przyjrzyjmy sie funkcjonalności funkcji stopwords oraz spsobom modyfikacji listy słów. Przed zapuszczeniem stopwords konieczna\n",
    "# jest np. tokenizacja która zmienia string w listę. Inaczej będą ciekawe efekty zapuszczenia stopwords.  \n",
    "\n",
    "# z biblioteki Spacy łaldujemy słownik \n",
    "pl=spacy.load(\"pl_core_news_sm\")\n",
    "\n",
    "# tu ładujemy słownik stopwordsów do zmiennej stopwords\n",
    "stopwords = pl.Defaults.stop_words\n",
    "\n",
    "# testujemy typ zmiennej \n",
    "print(type(stopwords))\n",
    "\n",
    "# typ zmiennej to Set. Wykorzystamy więc metody związane z Set-ami do zarządzania i modyfikacji listy wyrażeń do przetwarzania"
   ]
  },
  {
   "cell_type": "code",
   "execution_count": 6,
   "id": "5be79d24",
   "metadata": {},
   "outputs": [
    {
     "name": "stdout",
     "output_type": "stream",
     "text": [
      "{'byly', 'się', 'im', 'według', 'około', 'ach', 'cokolwiek', 'to', 'moja', 'ktorym', 'mnie', 'ten', 'my', 'sobą', 'twoim', 'tam', 'mają', 'która', 'ktorych', 'teraz', 'albo', 'jesli', 'przede', 'jest', 'być', 'az', 'trzeba', 'nim', 'raz', 'od', 'nasi', 'nam', 'jedno', 'i', 'juz', 'ono', 'już', 'duzo', 'skąd', 'sama', 'toteż', 'w', 'wasze', 'ix', 'totez', 'dwaj', 'gdzie', 'będę', 'na', 'on', 'xii', 'dużo', 'nas', 'jakoś', 'powinni', 'zadna', 'coś', 'tzw', 'kims', 'niemu', 'dwoje', 'takie', 'bede', 'cała', 'vii', 'były', 'jakiz', 'którym', 'taki', 'jednym', 'który', 'może', 'był', 'naszego', 'kto', 'niż', 'viii', 'ktory', 'dosc', 'nasz', 'byc', 'inna', 'one', 'znowu', 'że', 'ich', 'o', 'innych', 'nami', 'znów', 'zadne', 'jednakże', 'go', 'było', 'miał', 'wszystkie', 'cały', 'swoje', 'nich', 'niego', 'chce', 'poniewaz', 'takze', 'ktorzy', 'ktoś', 'nad', 'nic', 'jakas', 'taka', 'dlatego', 'także', 'ci', 'zawsze', 'takich', 'jestem', 'wtedy', 'poza', 'acz', 'jaki', 'mało', 'wszystko', 'sie', 'można', 'przy', 'mimo', 'nie', 'są', 'jeszcze', 'xv', 'za', 'jakby', 'ktokolwiek', 'twoja', 'dwa', 'iz', 'lub', 'czasami', 'ponieważ', 'jakiś', 'dokad', 'twym', 'rowniez', 'oni', 'pod', 'ależ', 'vi', 'była', 'jego', 'aczkolwiek', 'często', 'inny', 'z', 'ją', 'więc', 'nią', 'jedna', 'sposob', 'zaden', 'tobie', 'której', 'ktora', 'zostal', 'moje', 'coraz', 'we', 'dwie', 'cos', 'powinien', 'jakie', 'dokąd', 'mam', 'niz', 'aby', 'ze', 'godz', 'je', 'został', 'sobie', 'bardzo', 'wszyscy', 'sam', 'ku', 'oraz', 'tej', 'przecież', 'ile', 'jezeli', 'no', 'tobą', 'wy', 'bowiem', 'pana', 'kimś', 'tych', 'ktorego', 'inne', 'żeby', 'byl', 'jemu', 'twoje', 'możliwe', 'wiele', 'u', 'moi', 'by', 'bylo', 'dlaczego', 'wszystkim', 'wlasnie', 'twoj', 'toba', 'a', 'nimi', 'pani', 'żadne', 'czasem', 'tutaj', 'jakichs', 'zapewne', 'wasz', 'ja', 'ktorej', 'ty', 'oto', 'które', 'zeby', 'roku', 'bedzie', 'podczas', 'do', 'alez', 'mój', 'nasza', 'jakichś', 'jej', 'xi', 'gdyz', 'lecz', 'cie', 'kilku', 'caly', 'nasze', 'cala', 'bo', 'mogą', 'którzy', 'znow', 'mu', 'byli', 'mna', 'gdyż', 'twoi', 'jakkolwiek', 'moga', 'choć', 'xiv', 'cię', 'tę', 'beda', 'gdyby', 'tys', 'nia', 'gdzies', 'jeden', 'kierunku', 'daleko', 'aż', 'nigdy', 'cali', 'moj', 'bym', 'którego', 'kilka', 'miedzy', 'ta', 'dziś', 'prawie', 'tel', 'ale', 'aj', 'ma', 'również', 'tak', 'kiedy', 'co', 'dzisiaj', 'mną', 'ciebie', 'musi', 'mi', 'bynajmniej', 'zaś', 'jeśli', 'xiii', 'też', 'pomimo', 'natomiast', 'jakis', 'ponad', 'skad', 'wam', 'dla', 'temu', 'między', 'żadnych', 'sposób', 'twój', 'ktore', 'każdy', 'tu', 'żadna', 'wasi', 'te', 'ona', 'po', 'tylko', 'jeżeli', 'tego', 'mamy', 'czemu', 'ok', 'czy', 'moim', 'nawet', 'żaden', 'gdziekolwiek', 'mozliwe', 'naszych', 'dzis', 'iv', 'moze', 'powinna', 'przez', 'jednakze', 'jak', 'bez', 'wszystkich', 'wami', 'właśnie', 'których', 'mozna', 'dobrze', 'jakos', 'jako', 'wielu', 'byla', 'ktos', 'totobą', 'przed', 'jednak', 'iż', 'soba', 'obok', 'czyli', 'gdy', 'zadnych', 'gdzieś', 'przedtem', 'kazdy', 'natychmiast', 'tym', 'ani', 'wśród', 'przeciez', 'będzie', 'wasza', 'niej', 'wie', 'pan', 'jakiż', 'niech', 'będą', 'bardziej', 'powinno', 'jakaś', 'więcej', 'jedynie', 'razie', 'dość', 'owszem', 'was'}\n"
     ]
    }
   ],
   "source": [
    "# przegląd wyrażeń w zmiennej stopwords\n",
    "print(stopwords)"
   ]
  },
  {
   "cell_type": "code",
   "execution_count": 12,
   "id": "bbdc07fb",
   "metadata": {},
   "outputs": [
    {
     "name": "stdout",
     "output_type": "stream",
     "text": [
      "381\n"
     ]
    }
   ],
   "source": [
    "# liczba wyrażeń w stopwords\n",
    "print(len(stopwords))"
   ]
  },
  {
   "cell_type": "code",
   "execution_count": 7,
   "id": "7e818427",
   "metadata": {},
   "outputs": [
    {
     "name": "stdout",
     "output_type": "stream",
     "text": [
      "{'byly', 'się', 'tych', 'ktorego', 'im', 'inne', 'według', 'około', 'ach', 'żeby', 'cokolwiek', 'to', 'moja', 'ktorym', 'mnie', 'ten', 'byl', 'jemu', 'my', 'twoje', 'możliwe', 'wiele', 'u', 'moi', 'by', 'sobą', 'twoim', 'bylo', 'dlaczego', 'tam', 'mają', 'wszystkim', 'wlasnie', 'twoj', 'która', 'ktorych', 'teraz', 'toba', 'a', 'albo', 'jesli', 'przede', 'nimi', 'pani', 'jest', 'być', 'żadne', 'czasem', 'az', 'trzeba', 'nim', 'tutaj', 'm2', 'raz', 'od', 'pl', 'nasi', 'nam', 'jakichs', 'zapewne', 'wasz', 'jedno', 'ja', 'ktorej', 'i', 'ty', 'oto', 'nr', 'które', 'zeby', 'juz', 'ono', 'roku', 'bedzie', 'już', 'duzo', 'skąd', 'sama', 'toteż', 'w', 'wasze', 'podczas', 'do', 'alez', 'mój', 'nasza', 'jakichś', 'jej', 'xi', 'ix', 'totez', 'dwaj', 'gdzie', 'gdyz', 'będę', 'lecz', 'na', 'cie', 'on', 'xii', 'kilku', 'dużo', 'caly', 'nas', 'jakoś', 'powinni', 'nasze', 'cala', 'bo', 'mogą', 'zadna', 'którzy', 'coś', 'znow', 'tzw', 'mu', 'byli', 'kims', 'mna', 'gdyż', 'twoi', 'niemu', 'dwoje', 'takie', 'jakkolwiek', 'moga', 'bede', 'cała', 'choć', 'vii', 'xiv', 'były', 'cię', 'tę', 'jakiz', 'beda', 'gdyby', 'którym', 'taki', 'tys', 'jednym', 'który', 'nia', 'gdzies', 'może', 'był', 'naszego', 'kto', 'jeden', 'niż', 'viii', 'kierunku', 'daleko', 'aż', 'nigdy', 'ktory', 'dosc', 'nasz', 'byc', 'inna', 'cali', 'one', 'znowu', 'moj', 'że', 'bym', 'ich', 'którego', 'kilka', 'o', 'miedzy', 'innych', 'ta', 'dziś', 'prawie', 'nami', 'znów', 'tel', 'zadne', 'ale', 'aj', 'ma', 'również', 'jednakże', 'go', 'tak', 'kiedy', 'było', 'co', 'miał', 'dzisiaj', 'mną', 'wszystkie', 'ciebie', 'musi', 'cały', 'swoje', 'nich', 'mi', 'bynajmniej', 'zaś', 'niego', 'jeśli', 'chce', 'xiii', 'też', 'the', 'poniewaz', 'pomimo', 'natomiast', 'takze', 'ktorzy', 'jakis', 'ponad', 'skad', 'wam', 'dla', 'zapraszam', 'ktoś', 'nad', 'nic', 'zł', 'jakas', 'taka', 'temu', 'między', 'dlatego', 'żadnych', 'także', 'sposób', 'twój', 'ci', 'zawsze', 'ktore', 'takich', 'jestem', 'wtedy', 'każdy', 'tu', 'żadna', 'poza', 'acz', 'jaki', 'mało', 'wszystko', 'wasi', 'sie', 'te', 'ona', 'po', 'można', 'przy', 'tylko', 'mimo', 'jeżeli', 'nie', 'są', 'tego', 'mamy', 'jeszcze', 'czemu', 'ok', 'xv', 'czy', 'moim', 'za', 'jakby', 'nawet', 'ktokolwiek', 'twoja', 'żaden', 'dwa', 'iz', 'gdziekolwiek', 'mozliwe', 'naszych', 'lub', 'dzis', 'iv', 'moze', 'powinna', 'czasami', 'ponieważ', 'przez', 'jednakze', 'jak', 'jakiś', 'dokad', 'bez', 'twym', 'rowniez', 'oni', 'pod', 'wszystkich', 'wami', 'właśnie', 'których', 'ależ', 'vi', 'była', 'mozna', 'jego', 'dobrze', 'aczkolwiek', 'jakos', 'często', 'inny', 'jako', 'wielu', 'z', 'kimś', 'byla', 'ją', 'więc', 'nią', 'ktos', 'jedna', 'sposob', 'zaden', 'tobie', 'której', 'ktora', 'zostal', 'moje', 'coraz', 'totobą', 'we', 'przed', 'jednak', 'iż', 'dwie', 'cos', 'soba', 'powinien', 'obok', 'jakie', 'dokąd', 'mam', 'niz', 'czyli', 'gdy', 'aby', 'ze', 'zadnych', 'godz', 'gdzieś', 'je', 'przedtem', 'został', 'sobie', 'kazdy', 'bardzo', 'natychmiast', 'tym', 'ani', 'wszyscy', 'wśród', 'przeciez', 'będzie', 'wasza', 'niej', 'sam', 'ku', 'oraz', 'wie', 'pan', 'jakiż', 'niech', 'będą', 'bardziej', 'powinno', 'tej', 'jakaś', 'przecież', 'więcej', 'jedynie', 'razie', 'ile', 'jezeli', 'no', 'dość', 'tobą', 'wy', 'owszem', 'bowiem', 'pana', 'was'}\n",
      "387\n"
     ]
    }
   ],
   "source": [
    "# dodawanie wyrażeń do pierwotnego zestawienia tj. tych które chcemy usunąć np. z opisu. \n",
    "# Wyrazy z Bag_of_words uzyskane w dalszej części kodu\n",
    "\n",
    "stop2 = {'m2', 'pl', 'zł', 'zapraszam', 'the', 'nr',}\n",
    "stopwords = stopwords.union(stop2)\n",
    "lista = list(stopwords)\n",
    "\n",
    "print(stopwords)\n",
    "print(len(stopwords))"
   ]
  },
  {
   "cell_type": "code",
   "execution_count": 8,
   "id": "41854f2a",
   "metadata": {},
   "outputs": [
    {
     "name": "stdout",
     "output_type": "stream",
     "text": [
      "{'byly', 'się', 'tych', 'ktorego', 'im', 'inne', 'według', 'około', 'ach', 'żeby', 'cokolwiek', 'to', 'moja', 'ktorym', 'mnie', 'ten', 'byl', 'jemu', 'my', 'twoje', 'możliwe', 'wiele', 'u', 'moi', 'by', 'sobą', 'twoim', 'bylo', 'dlaczego', 'tam', 'mają', 'wszystkim', 'wlasnie', 'twoj', 'która', 'ktorych', 'teraz', 'toba', 'a', 'albo', 'jesli', 'przede', 'nimi', 'pani', 'jest', 'być', 'żadne', 'czasem', 'az', 'trzeba', 'nim', 'tutaj', 'm2', 'raz', 'od', 'pl', 'nasi', 'nam', 'jakichs', 'zapewne', 'wasz', 'jedno', 'ja', 'ktorej', 'i', 'ty', 'oto', 'nr', 'które', 'zeby', 'juz', 'ono', 'roku', 'bedzie', 'już', 'duzo', 'skąd', 'sama', 'toteż', 'w', 'wasze', 'podczas', 'do', 'alez', 'mój', 'nasza', 'jakichś', 'jej', 'xi', 'ix', 'totez', 'dwaj', 'gdzie', 'gdyz', 'będę', 'lecz', 'na', 'cie', 'on', 'xii', 'kilku', 'dużo', 'caly', 'nas', 'jakoś', 'powinni', 'nasze', 'cala', 'bo', 'mogą', 'zadna', 'którzy', 'coś', 'znow', 'tzw', 'mu', 'byli', 'kims', 'mna', 'gdyż', 'twoi', 'niemu', 'dwoje', 'takie', 'jakkolwiek', 'moga', 'bede', 'cała', 'choć', 'vii', 'xiv', 'były', 'cię', 'tę', 'jakiz', 'beda', 'gdyby', 'którym', 'taki', 'tys', 'jednym', 'który', 'nia', 'gdzies', 'może', 'był', 'naszego', 'kto', 'jeden', 'niż', 'viii', 'kierunku', 'daleko', 'aż', 'nigdy', 'ktory', 'dosc', 'nasz', 'byc', 'inna', 'cali', 'one', 'znowu', 'moj', 'że', 'bym', 'ich', 'którego', 'kilka', 'o', 'miedzy', 'innych', 'ta', 'dziś', 'prawie', 'nami', 'znów', 'tel', 'zadne', 'ale', 'aj', 'ma', 'również', 'jednakże', 'go', 'tak', 'kiedy', 'co', 'miał', 'dzisiaj', 'mną', 'wszystkie', 'ciebie', 'musi', 'cały', 'nich', 'mi', 'bynajmniej', 'zaś', 'niego', 'jeśli', 'chce', 'xiii', 'też', 'the', 'poniewaz', 'pomimo', 'natomiast', 'takze', 'ktorzy', 'jakis', 'ponad', 'skad', 'wam', 'dla', 'zapraszam', 'ktoś', 'nad', 'nic', 'zł', 'jakas', 'taka', 'temu', 'między', 'dlatego', 'żadnych', 'także', 'sposób', 'twój', 'ci', 'zawsze', 'ktore', 'takich', 'jestem', 'wtedy', 'każdy', 'tu', 'żadna', 'poza', 'acz', 'jaki', 'mało', 'wszystko', 'wasi', 'sie', 'te', 'ona', 'po', 'można', 'przy', 'tylko', 'mimo', 'jeżeli', 'nie', 'są', 'tego', 'mamy', 'jeszcze', 'czemu', 'ok', 'xv', 'czy', 'moim', 'za', 'jakby', 'nawet', 'ktokolwiek', 'twoja', 'żaden', 'dwa', 'gdziekolwiek', 'mozliwe', 'naszych', 'lub', 'dzis', 'iv', 'moze', 'powinna', 'czasami', 'ponieważ', 'przez', 'jednakze', 'jak', 'jakiś', 'dokad', 'bez', 'twym', 'rowniez', 'oni', 'pod', 'wszystkich', 'wami', 'właśnie', 'których', 'ależ', 'vi', 'była', 'mozna', 'jego', 'dobrze', 'aczkolwiek', 'jakos', 'inny', 'jako', 'wielu', 'z', 'kimś', 'byla', 'ją', 'więc', 'nią', 'ktos', 'jedna', 'sposob', 'zaden', 'tobie', 'której', 'ktora', 'zostal', 'moje', 'coraz', 'totobą', 'we', 'przed', 'jednak', 'iż', 'dwie', 'cos', 'soba', 'powinien', 'obok', 'jakie', 'dokąd', 'mam', 'niz', 'czyli', 'gdy', 'aby', 'ze', 'zadnych', 'gdzieś', 'je', 'przedtem', 'został', 'sobie', 'kazdy', 'bardzo', 'natychmiast', 'tym', 'ani', 'wszyscy', 'wśród', 'przeciez', 'będzie', 'wasza', 'niej', 'sam', 'ku', 'oraz', 'wie', 'pan', 'jakiż', 'niech', 'będą', 'bardziej', 'powinno', 'tej', 'jakaś', 'przecież', 'więcej', 'jedynie', 'razie', 'ile', 'jezeli', 'no', 'dość', 'tobą', 'wy', 'owszem', 'bowiem', 'pana', 'was'}\n",
      "382\n"
     ]
    }
   ],
   "source": [
    "# odejmowanie wyrażeń z pierwotnego zestawienia tj. tych wyrażeń których nie chcemy usunąć np z opisu. Tu odejme  pięć \n",
    "stop2 = {'iz', 'swoje', 'było', 'często', 'godz'}\n",
    "stopwords = stopwords.difference(stop2)\n",
    "\n",
    "print(stopwords)\n",
    "print(len(stopwords))"
   ]
  },
  {
   "cell_type": "markdown",
   "id": "cf2d6544",
   "metadata": {},
   "source": [
    "#### Zastosowanie wbudowanych funkcji CountVectorizer() do odcięcia mało licznych słów\n",
    "Czasami transformacja i wykorzystanie całego słownictwa zawartego w opisie nie jest efektywne, ponieważ dane mogą zawierać  wyjątkowo rzadkie lub niechciane słowa, które przekazane do TfidfVectorizer().fit() dodadzą w przyszłości niechciane wymiary do danych wejściowych. \n",
    " \n",
    " Jedną z technik stosowanych w tym przypadku byłoby na przykład wydrukowanie częstotliwości słów w dokumentach, \n",
    " a następnie ustawienie dla nich określonego progu. \n",
    " \n",
    " Przykładowa analiza: wyobraźmy sobie, że ustawiliśmy próg 100, a korpus opisu danych składa się z 10000 słów. \n",
    " Po przyjrzeniu się częstotliwości słów, 20 słów pojawia się mniej niż 100 razy. \n",
    " To zbyt często aby te słowa usunąć. Ustawiamy max_features=200 i analizujemy wyniki. Po dobraniu odpowiedniej liczby  przy \n",
    " max_features, gdy najniższa liczba wystąpień słów spadnie do akceptowalnych wyników można zaczynać. Liczba ta oczywiście jest\n",
    " zależna od wielkości zbioru uczącego i samego korpusu.\n",
    " Jeśli parametr max_features jest ustawiony na Brak, podczas transformacji TF-IDF uwzględniany jest cały opis.\n",
    " Tu wykorzystam tą funkcję w inny sposób. Ustawię max_features=100 i będę analizował wystąpienia słów, a ewidentnie zbędne dodam do StopWords. Przeprowadzę jedną iterację w celu demonstracji. Iteracje można powtarzać oczywiście w celu lepszego przygotowania zbioru \n",
    "\n",
    " Jednakże przed wykorzystaniem możliwości CountVectorizer wykorzystamy słownik stopwords.\n"
   ]
  },
  {
   "cell_type": "code",
   "execution_count": 9,
   "id": "cda29cfb",
   "metadata": {},
   "outputs": [
    {
     "data": {
      "text/plain": [
       "array(['48', 'administracyjny', 'agd', 'and', 'aneksem', 'apartament',\n",
       "       'apartment', 'asari', 'asaricrm', 'balkon', 'biur', 'budynek',\n",
       "       'budynku', 'cena', 'centrum', 'com', 'crm', 'cywilnego', 'czynsz',\n",
       "       'dodatkowo', 'dostępne', 'for', 'garażu', 'in', 'informacje', 'is',\n",
       "       'kaucja', 'kodeksu', 'kuchennym', 'kuchni', 'kuchnia', 'lodówka',\n",
       "       'lokalizacja', 'meble', 'media', 'miasta', 'miejsca', 'miejsce',\n",
       "       'mieszkania', 'mieszkanie', 'min', 'możliwość', 'najmu',\n",
       "       'nieruchomości', 'nowe', 'numer', 'of', 'oferta', 'oferty',\n",
       "       'ogrzewanie', 'opłaty', 'osób', 'park', 'pełni', 'piekarnik',\n",
       "       'piętrze', 'pln', 'pobliżu', 'podziemnym', 'pokaż', 'pokojowe',\n",
       "       'pokój', 'postojowe', 'powierzchni', 'pralka', 'prezentację',\n",
       "       'programu', 'przedpokoju', 'przedpokój', 'prąd', 'płyta', 'room',\n",
       "       'rozumieniu', 'salon', 'salonu', 'sklepy', 'składa', 'stanowi',\n",
       "       'sypialni', 'sypialnia', 'szafa', 'ul', 'umeblowane', 'wc', 'wg',\n",
       "       'with', 'woda', 'wynajem', 'wynajęcia', 'wyposażona', 'wyposażone',\n",
       "       'wysłana', 'zabudowie', 'zaraz', 'zmywarka', 'znajduje', 'zużycia',\n",
       "       'łazienka', 'łazienki', 'łóżko'], dtype=object)"
      ]
     },
     "execution_count": 9,
     "metadata": {},
     "output_type": "execute_result"
    }
   ],
   "source": [
    "from sklearn.feature_extraction.text import CountVectorizer\n",
    "\n",
    "vectorizer = CountVectorizer(max_features=100, stop_words=lista)\n",
    "wektor = vectorizer.fit_transform(df['descr'])\n",
    "vectorizer.get_feature_names_out()"
   ]
  },
  {
   "cell_type": "code",
   "execution_count": 11,
   "id": "b0845659",
   "metadata": {},
   "outputs": [
    {
     "data": {
      "text/html": [
       "<style>#sk-container-id-1 {color: black;background-color: white;}#sk-container-id-1 pre{padding: 0;}#sk-container-id-1 div.sk-toggleable {background-color: white;}#sk-container-id-1 label.sk-toggleable__label {cursor: pointer;display: block;width: 100%;margin-bottom: 0;padding: 0.3em;box-sizing: border-box;text-align: center;}#sk-container-id-1 label.sk-toggleable__label-arrow:before {content: \"▸\";float: left;margin-right: 0.25em;color: #696969;}#sk-container-id-1 label.sk-toggleable__label-arrow:hover:before {color: black;}#sk-container-id-1 div.sk-estimator:hover label.sk-toggleable__label-arrow:before {color: black;}#sk-container-id-1 div.sk-toggleable__content {max-height: 0;max-width: 0;overflow: hidden;text-align: left;background-color: #f0f8ff;}#sk-container-id-1 div.sk-toggleable__content pre {margin: 0.2em;color: black;border-radius: 0.25em;background-color: #f0f8ff;}#sk-container-id-1 input.sk-toggleable__control:checked~div.sk-toggleable__content {max-height: 200px;max-width: 100%;overflow: auto;}#sk-container-id-1 input.sk-toggleable__control:checked~label.sk-toggleable__label-arrow:before {content: \"▾\";}#sk-container-id-1 div.sk-estimator input.sk-toggleable__control:checked~label.sk-toggleable__label {background-color: #d4ebff;}#sk-container-id-1 div.sk-label input.sk-toggleable__control:checked~label.sk-toggleable__label {background-color: #d4ebff;}#sk-container-id-1 input.sk-hidden--visually {border: 0;clip: rect(1px 1px 1px 1px);clip: rect(1px, 1px, 1px, 1px);height: 1px;margin: -1px;overflow: hidden;padding: 0;position: absolute;width: 1px;}#sk-container-id-1 div.sk-estimator {font-family: monospace;background-color: #f0f8ff;border: 1px dotted black;border-radius: 0.25em;box-sizing: border-box;margin-bottom: 0.5em;}#sk-container-id-1 div.sk-estimator:hover {background-color: #d4ebff;}#sk-container-id-1 div.sk-parallel-item::after {content: \"\";width: 100%;border-bottom: 1px solid gray;flex-grow: 1;}#sk-container-id-1 div.sk-label:hover label.sk-toggleable__label {background-color: #d4ebff;}#sk-container-id-1 div.sk-serial::before {content: \"\";position: absolute;border-left: 1px solid gray;box-sizing: border-box;top: 0;bottom: 0;left: 50%;z-index: 0;}#sk-container-id-1 div.sk-serial {display: flex;flex-direction: column;align-items: center;background-color: white;padding-right: 0.2em;padding-left: 0.2em;position: relative;}#sk-container-id-1 div.sk-item {position: relative;z-index: 1;}#sk-container-id-1 div.sk-parallel {display: flex;align-items: stretch;justify-content: center;background-color: white;position: relative;}#sk-container-id-1 div.sk-item::before, #sk-container-id-1 div.sk-parallel-item::before {content: \"\";position: absolute;border-left: 1px solid gray;box-sizing: border-box;top: 0;bottom: 0;left: 50%;z-index: -1;}#sk-container-id-1 div.sk-parallel-item {display: flex;flex-direction: column;z-index: 1;position: relative;background-color: white;}#sk-container-id-1 div.sk-parallel-item:first-child::after {align-self: flex-end;width: 50%;}#sk-container-id-1 div.sk-parallel-item:last-child::after {align-self: flex-start;width: 50%;}#sk-container-id-1 div.sk-parallel-item:only-child::after {width: 0;}#sk-container-id-1 div.sk-dashed-wrapped {border: 1px dashed gray;margin: 0 0.4em 0.5em 0.4em;box-sizing: border-box;padding-bottom: 0.4em;background-color: white;}#sk-container-id-1 div.sk-label label {font-family: monospace;font-weight: bold;display: inline-block;line-height: 1.2em;}#sk-container-id-1 div.sk-label-container {text-align: center;}#sk-container-id-1 div.sk-container {/* jupyter's `normalize.less` sets `[hidden] { display: none; }` but bootstrap.min.css set `[hidden] { display: none !important; }` so we also need the `!important` here to be able to override the default hidden behavior on the sphinx rendered scikit-learn.org. See: https://github.com/scikit-learn/scikit-learn/issues/21755 */display: inline-block !important;position: relative;}#sk-container-id-1 div.sk-text-repr-fallback {display: none;}</style><div id=\"sk-container-id-1\" class=\"sk-top-container\"><div class=\"sk-text-repr-fallback\"><pre>CountVectorizer(max_features=100,\n",
       "                stop_words=[&#x27;byly&#x27;, &#x27;się&#x27;, &#x27;tych&#x27;, &#x27;ktorego&#x27;, &#x27;im&#x27;, &#x27;inne&#x27;,\n",
       "                            &#x27;według&#x27;, &#x27;około&#x27;, &#x27;ach&#x27;, &#x27;żeby&#x27;, &#x27;cokolwiek&#x27;, &#x27;to&#x27;,\n",
       "                            &#x27;moja&#x27;, &#x27;ktorym&#x27;, &#x27;mnie&#x27;, &#x27;ten&#x27;, &#x27;byl&#x27;, &#x27;jemu&#x27;,\n",
       "                            &#x27;my&#x27;, &#x27;twoje&#x27;, &#x27;możliwe&#x27;, &#x27;wiele&#x27;, &#x27;u&#x27;, &#x27;moi&#x27;, &#x27;by&#x27;,\n",
       "                            &#x27;sobą&#x27;, &#x27;twoim&#x27;, &#x27;bylo&#x27;, &#x27;dlaczego&#x27;, &#x27;tam&#x27;, ...])</pre><b>In a Jupyter environment, please rerun this cell to show the HTML representation or trust the notebook. <br />On GitHub, the HTML representation is unable to render, please try loading this page with nbviewer.org.</b></div><div class=\"sk-container\" hidden><div class=\"sk-item\"><div class=\"sk-estimator sk-toggleable\"><input class=\"sk-toggleable__control sk-hidden--visually\" id=\"sk-estimator-id-1\" type=\"checkbox\" checked><label for=\"sk-estimator-id-1\" class=\"sk-toggleable__label sk-toggleable__label-arrow\">CountVectorizer</label><div class=\"sk-toggleable__content\"><pre>CountVectorizer(max_features=100,\n",
       "                stop_words=[&#x27;byly&#x27;, &#x27;się&#x27;, &#x27;tych&#x27;, &#x27;ktorego&#x27;, &#x27;im&#x27;, &#x27;inne&#x27;,\n",
       "                            &#x27;według&#x27;, &#x27;około&#x27;, &#x27;ach&#x27;, &#x27;żeby&#x27;, &#x27;cokolwiek&#x27;, &#x27;to&#x27;,\n",
       "                            &#x27;moja&#x27;, &#x27;ktorym&#x27;, &#x27;mnie&#x27;, &#x27;ten&#x27;, &#x27;byl&#x27;, &#x27;jemu&#x27;,\n",
       "                            &#x27;my&#x27;, &#x27;twoje&#x27;, &#x27;możliwe&#x27;, &#x27;wiele&#x27;, &#x27;u&#x27;, &#x27;moi&#x27;, &#x27;by&#x27;,\n",
       "                            &#x27;sobą&#x27;, &#x27;twoim&#x27;, &#x27;bylo&#x27;, &#x27;dlaczego&#x27;, &#x27;tam&#x27;, ...])</pre></div></div></div></div></div>"
      ],
      "text/plain": [
       "CountVectorizer(max_features=100,\n",
       "                stop_words=['byly', 'się', 'tych', 'ktorego', 'im', 'inne',\n",
       "                            'według', 'około', 'ach', 'żeby', 'cokolwiek', 'to',\n",
       "                            'moja', 'ktorym', 'mnie', 'ten', 'byl', 'jemu',\n",
       "                            'my', 'twoje', 'możliwe', 'wiele', 'u', 'moi', 'by',\n",
       "                            'sobą', 'twoim', 'bylo', 'dlaczego', 'tam', ...])"
      ]
     },
     "execution_count": 11,
     "metadata": {},
     "output_type": "execute_result"
    }
   ],
   "source": [
    "from sklearn.feature_extraction.text import CountVectorizer\n",
    "\n",
    "# Jeśli użyliśmy tokenizacji to:\n",
    "# from sklearn.preprocessing import MultiLabelBinarizer\n",
    "# count_vec = MultiLabelBinarizer()\n",
    "# mlb = count_vec.fit(df['descr'])\n",
    "# pd.DataFrame(mlb.transform(dfdf['descr']), columns=[mlb.classes_])\n",
    "\n",
    "X=df['descr'] # tu generuje wektor opisów do analizy\n",
    "count_v = CountVectorizer(max_features=100, stop_words=lista)\n",
    "count_v.fit(X)\n",
    "\n"
   ]
  },
  {
   "cell_type": "markdown",
   "id": "44bd22ad",
   "metadata": {},
   "source": [
    "#### Zastosowanie innego podejścia do wybrania mało licznych słów.\n",
    "W celi poniżej alternatywna analiza występowania słów w opisie. Zliczamy wystąpienia słów w opisach\n",
    "bag_of_words macierz, w której każdy wiersz reprezentuje określony tekst, a każda kolumna reprezentuje słowo w słowniku, czyli wszystkie słowa znalezione w korpusie. Czyli bag_of_words[i,j] to wystąpienie słowa j w tekście i."
   ]
  },
  {
   "cell_type": "code",
   "execution_count": 12,
   "id": "dfd8b007",
   "metadata": {},
   "outputs": [
    {
     "name": "stdout",
     "output_type": "stream",
     "text": [
      "[('mieszkanie', 16082), ('nieruchomości', 8266), ('czynsz', 6243), ('numer', 6049), ('48', 5866), ('najmu', 5769), ('pokaż', 5665), ('and', 5474), ('znajduje', 5055), ('mieszkania', 5018), ('in', 4910), ('pln', 4594), ('oferty', 4459), ('centrum', 4453), ('of', 4393), ('budynku', 4215), ('łazienka', 4170), ('wynajęcia', 4049), ('ul', 4023), ('with', 3926), ('miejsce', 3898), ('kaucja', 3767), ('oferta', 3752), ('prąd', 3635), ('sypialni', 3542), ('lokalizacja', 3440), ('piętrze', 3422), ('ogrzewanie', 3394), ('łazienki', 3369), ('opłaty', 3289), ('składa', 3126), ('powierzchni', 3078), ('balkon', 3064), ('kuchnia', 3000), ('aneksem', 2999), ('pełni', 2985), ('apartment', 2981), ('salon', 2960), ('kuchennym', 2929), ('apartament', 2893), ('wc', 2750), ('is', 2736), ('wyposażone', 2700), ('sypialnia', 2669), ('rozumieniu', 2644), ('kuchni', 2621), ('umeblowane', 2609), ('piekarnik', 2584), ('salonu', 2567), ('woda', 2527), ('stanowi', 2493), ('lodówka', 2434), ('kodeksu', 2433), ('pobliżu', 2426), ('cywilnego', 2416), ('agd', 2360), ('szafa', 2357), ('miasta', 2318), ('przedpokoju', 2314), ('pralka', 2281), ('administracyjny', 2275), ('for', 2223), ('com', 2219), ('zmywarka', 2154), ('wysłana', 2123), ('dodatkowo', 2111), ('możliwość', 2111), ('sklepy', 2099), ('meble', 2087), ('pokój', 2084), ('park', 2066), ('płyta', 2011), ('programu', 1968), ('biur', 1962), ('media', 1942), ('garażu', 1930), ('zużycia', 1926), ('miejsca', 1911), ('budynek', 1901), ('zabudowie', 1894), ('nowe', 1888), ('cena', 1858), ('informacje', 1857), ('pokojowe', 1852), ('room', 1852), ('postojowe', 1833), ('wyposażona', 1823), ('osób', 1790), ('wynajem', 1742), ('łóżko', 1740), ('asari', 1719), ('crm', 1718), ('wg', 1718), ('podziemnym', 1717), ('asaricrm', 1716), ('zaraz', 1704), ('dostępne', 1685), ('prezentację', 1668), ('min', 1661), ('przedpokój', 1645)]\n"
     ]
    }
   ],
   "source": [
    "## można zrobić też w jednym kroku fit_transform\n",
    "bag_of_words = count_v.transform(X)\n",
    "suma_slow = bag_of_words.sum(axis=0) # suma_slow to wektor, który zawiera sumę wystąpień każdego słowa we wszystkich tekstach \n",
    "# print(suma_slow) # tu jak ktoś ciekawy ja to wygląda pierwotnie\n",
    "\n",
    "# Zliczanie wystąpień. W pierwszej linijce pętla zliczająca liczbę wystąpień i zwracająca parę: słowo - liczba wystąpień.\n",
    "# W drugiej linijce sortowanie słów od największej liczby wystąpień do najmiejszej\n",
    "\n",
    "words_freq = [(word, suma_slow[0, idx]) for word, idx in count_v.vocabulary_.items()]\n",
    "words_freq =sorted(words_freq, key = lambda x: x[1], reverse=True)\n",
    "print(words_freq) # drukowanie i analiza\n",
    "\n"
   ]
  },
  {
   "cell_type": "markdown",
   "id": "7f8065f9",
   "metadata": {},
   "source": [
    "#### Zastosowanie słownika predefiniowanego"
   ]
  },
  {
   "cell_type": "code",
   "execution_count": 13,
   "id": "afcb01ee",
   "metadata": {},
   "outputs": [
    {
     "name": "stdout",
     "output_type": "stream",
     "text": [
      "[('mieszkanie', 16082), ('meble', 2087), ('kanapa', 810)]\n"
     ]
    }
   ],
   "source": [
    "# z zastosowaniem słownika\n",
    "from sklearn.feature_extraction.text import CountVectorizer\n",
    "slownik = ['mieszkanie', 'meble', 'kanapa']\n",
    "\n",
    "X=df['descr'] # tu generuje wektor opisów do analizy\n",
    "count_v = CountVectorizer(max_features=100, stop_words=lista, vocabulary = slownik)\n",
    "\n",
    "bag_of_words = count_v.fit_transform(X)\n",
    "suma_slow = bag_of_words.sum(axis=0)\n",
    "\n",
    "words_freq = [(word, suma_slow[0, idx]) for word, idx in count_v.vocabulary_.items()]\n",
    "words_freq = sorted(words_freq, key = lambda x: x[1], reverse=True)\n",
    "print(words_freq)\n"
   ]
  },
  {
   "cell_type": "code",
   "execution_count": 3,
   "id": "5846e6c1",
   "metadata": {},
   "outputs": [],
   "source": [
    "# to jest zestaw wyrazeń, które chcę dodać do stop words po analizie\n",
    "stop2 = {'m2', 'pl', 'zł', 'zapraszam', 'the', 'nr',}"
   ]
  },
  {
   "cell_type": "code",
   "execution_count": null,
   "id": "0bb08998",
   "metadata": {},
   "outputs": [],
   "source": [
    "# Ciekawostka: są dodatkowe opcje CountVectorizer. Możemy ustalić np. minimalną liczbę wystąpień poleceniem min_df \n",
    "# żeby je usunąć i zmiejszyć liczbę wymiarów\n",
    "# coun_vect = CountVectorizer(min_df=10) # ustawienie limitu na 10\n",
    "# count_matrix = coun_vect.fit_transform(test_x)\n",
    "# count_array = count_matrix.toarray() \n",
    "# df = pd.DataFrame(data=count_array,columns = coun_vect.get_feature_names()) # tu pozyskujemy listę słów\n",
    "# print(df) # tu drukujemy te słowa."
   ]
  },
  {
   "cell_type": "markdown",
   "id": "6c04f118",
   "metadata": {},
   "source": [
    "### Zastosowanie funkcji n-gram\n",
    "Niektóre określenia mają większy sens gdy rozpatrujemy je jako całość, a nie jako osobne słowa.\n",
    "<br> Dotyczy np. określeń: aneks kuchenny.\n",
    "<br> Dlatego możemy stosować n-gramy w celu utworzenia zestawień słów umiejscowionych koło siebie w analizowanym tekście.\n",
    "\n",
    "Implementacja w CountVectorizer przebiega prosto. W opcjach dodajemy parametr ngram_range=\n",
    "Gdzie wartość range określa jakie n-gramy mają być zastosowane.\n",
    "ngram_range=(1,2) dobierze każde słowo z osobna i wszystkie pary słów\n",
    "ngram_range=(2,2) dobierze tylko pary słów\n"
   ]
  },
  {
   "cell_type": "code",
   "execution_count": 14,
   "id": "76a9c21d",
   "metadata": {},
   "outputs": [
    {
     "data": {
      "text/plain": [
       "array(['48 pokaż', 'aneks kuchenny', 'aneksem kuchennym', 'apartment is',\n",
       "       'art 66', 'asari crm', 'asaricrm com', 'biur nieruchomości',\n",
       "       'biuro nieruchomości', 'cena najmu', 'centrum miasta',\n",
       "       'charakter informacyjny', 'ciepła woda', 'crm asaricrm',\n",
       "       'czynsz administracyjny', 'czynsz najmu', 'dodatkowe informacje',\n",
       "       'dostępne zaraz', 'duży balkon', 'dwupokojowe mieszkanie',\n",
       "       'garażu podziemnym', 'hali garażowej', 'handlowej rozumieniu',\n",
       "       'is located', 'istnieje możliwość', 'kabina prysznicowa',\n",
       "       'kaucja zwrotna', 'kodeksu cywilnego', 'komunikacji miejskiej',\n",
       "       'komórka lokatorska', 'kuchennym sypialni', 'liczne sklepy',\n",
       "       'living room', 'miejsce parkingowe', 'miejsce postojowe',\n",
       "       'mieszkania przynależy', 'mieszkanie dostępne', 'mieszkanie pełni',\n",
       "       'mieszkanie pokojowe', 'mieszkanie powierzchni',\n",
       "       'mieszkanie składa', 'mieszkanie znajduje', 'możliwość wynajęcia',\n",
       "       'najem okazjonalny', 'najmu okazjonalnego', 'nieruchomości asari',\n",
       "       'niniejsze ogłoszenie', 'niniejszego ogłoszenia', 'numer 48',\n",
       "       'odpowiedzialny zawodowo', 'oferta wysłana', 'oferty handlowej',\n",
       "       'oferty rozumieniu', 'ogrzewanie miejskie', 'ogłoszenia stanowi',\n",
       "       'opłaty czynsz', 'pełni umeblowane', 'pełni wyposażone',\n",
       "       'piekarnik płyta', 'pln czynsz', 'pokaż numer',\n",
       "       'pokojowe mieszkanie', 'postojowe garażu',\n",
       "       'pośrednik odpowiedzialny', 'programu biur', 'przepisów kodeksu',\n",
       "       'przynależy miejsce', 'przystanek autobusowy', 'prąd gaz',\n",
       "       'prąd wg', 'punkty usługowe', 'płyta indukcyjna', 'real estate',\n",
       "       'room with', 'rozumieniu art', 'rozumieniu kodeksu',\n",
       "       'rozumieniu przepisów', 'salon aneksem', 'salonu aneksem',\n",
       "       'składa salonu', 'sprzęt agd', 'stanowi oferty', 'stolik kawowy',\n",
       "       'stół krzesłami', 'sypialni łazienki', 'treść niniejszego',\n",
       "       'umeblowane wyposażone', 'umowa najmu', 'umowy pośrednictwa',\n",
       "       'wg zużycia', 'wyjściem balkon', 'wykonanie umowy',\n",
       "       'wymagana kaucja', 'wynajęcia mieszkanie', 'wysokim standardzie',\n",
       "       'wysłana programu', 'zawodowo wykonanie', 'znajduje piętrze',\n",
       "       'łazienka wc', 'łazienki wc'], dtype=object)"
      ]
     },
     "execution_count": 14,
     "metadata": {},
     "output_type": "execute_result"
    }
   ],
   "source": [
    "from sklearn.feature_extraction.text import CountVectorizer\n",
    "\n",
    "vectorizer = CountVectorizer(max_features=100, ngram_range=(2,2), stop_words=lista)\n",
    "# Map each word in our training narratives to a vector position\n",
    "vectorizer.fit(df['descr'])\n",
    "\n",
    "# tu otrzymana lista ngramów\n",
    "vectorizer.get_feature_names_out()\n"
   ]
  },
  {
   "cell_type": "markdown",
   "id": "e5f905d3",
   "metadata": {},
   "source": [
    "### Wdrożenie ograniczonego modelu. \n",
    "> Ten model nie jest efektywny bo analiza i korekta opisu jest przeprowadzona w celach demonstracyjnych i prezentuje funkcjonalność narzędzi. \n",
    "<br> Prezentuje również efektywność takiego podejścia. Poprzez likwidację wymiarów osiągamy znaczne oszczędności czasowe związane z wdrożeniem modelu."
   ]
  },
  {
   "cell_type": "code",
   "execution_count": 163,
   "id": "40085557",
   "metadata": {},
   "outputs": [],
   "source": [
    "## jeżeli to wszystko co jest w komórkach poniżej jest tym samym co w ML lub Bayessowski, to usuńmy to.\n",
    "## ten dokument może pozostać tylko opisem sposobów wyboru stop wordsów i przygotowania tekstu do realizacji autoklasyfikacji.\n",
    "# Tu po analizie próba znalezienia parametrów\n",
    "\n",
    "from sklearn.model_selection import train_test_split\n",
    "from sklearn.svm import SVC \n",
    "\n",
    "vectorizer = CountVectorizer(max_features=1200,  stop_words=lista)\n",
    "# Map each word in our training narratives to a vector position\n",
    "vectorizer.fit(df['descr'])\n",
    "# Convert each training narrative to its vector representation and stack them into a matrix\n",
    "X = vectorizer.transform(df['descr'])\n",
    "X = X.toarray()\n",
    "y = df['kitch_class']\n",
    "\n",
    "# podział zbioru na 3 części. W pierwszym kroku otrzymamy 2 zbiory - uszący i treningowy z walidacyjnym. W 2 kroku dokonujemy \n",
    "# podziału zbioru testowo - walidacyjnego na dwa odrębne zbiory testowy i walidacyjny\n",
    "\n",
    "X_train, X_test_all, y_train, y_test_all = train_test_split(X, y, test_size=0.50, random_state=2)\n",
    "\n",
    "X_test, X_val, y_test, y_val = train_test_split(X_test_all, y_test_all, test_size=0.50, random_state=2)\n",
    "\n"
   ]
  },
  {
   "cell_type": "code",
   "execution_count": 164,
   "id": "54563c6b",
   "metadata": {},
   "outputs": [
    {
     "name": "stdout",
     "output_type": "stream",
     "text": [
      "The list of values for C are [1.00000000e-03 1.58489319e-03 2.51188643e-03 3.98107171e-03\n",
      " 6.30957344e-03 1.00000000e-02 1.58489319e-02 2.51188643e-02\n",
      " 3.98107171e-02 6.30957344e-02 1.00000000e-01 1.58489319e-01\n",
      " 2.51188643e-01 3.98107171e-01 6.30957344e-01 1.00000000e+00\n",
      " 1.58489319e+00 2.51188643e+00 3.98107171e+00 6.30957344e+00\n",
      " 1.00000000e+01 1.58489319e+01 2.51188643e+01 3.98107171e+01\n",
      " 6.30957344e+01 1.00000000e+02 1.58489319e+02 2.51188643e+02\n",
      " 3.98107171e+02 6.30957344e+02 1.00000000e+03]\n",
      "The list of values for gamma are [1.00000000e-03 1.58489319e-03 2.51188643e-03 3.98107171e-03\n",
      " 6.30957344e-03 1.00000000e-02 1.58489319e-02 2.51188643e-02\n",
      " 3.98107171e-02 6.30957344e-02 1.00000000e-01 1.58489319e-01\n",
      " 2.51188643e-01 3.98107171e-01 6.30957344e-01 1.00000000e+00\n",
      " 1.58489319e+00 2.51188643e+00 3.98107171e+00 6.30957344e+00\n",
      " 1.00000000e+01 1.58489319e+01 2.51188643e+01 3.98107171e+01\n",
      " 6.30957344e+01 1.00000000e+02 1.58489319e+02 2.51188643e+02\n",
      " 3.98107171e+02 6.30957344e+02 1.00000000e+03]\n"
     ]
    }
   ],
   "source": [
    "# Dobór parametrów przy użyciu metody optymizacji Bayessowskiej. Ze względu na demonstracyjny charakter \n",
    "# ograniczę przestrzeń wyszukiwania w celu zaoszczędzenia czasu. Z drugiej strony zawężona przestrzeń poszukiwań pozwala funkcji na lepszy wybór parametrów.\n",
    "\n",
    "# Zdefiniowanie przestrzeni poszukiwania\n",
    "\n",
    "# Przestrzeń dla wartości C\n",
    "C_range = np.logspace(-3, 3, 31) # pierwsza wartość, wartość końcowa, ilość wystąpień np.-5, 5, 21\n",
    "print(f'The list of values for C are {C_range}')\n",
    "\n",
    "# Przestrzeń dla wartości gamma\n",
    "gamma_range = np.logspace(-3, 3, 31) # pierwsza wartość, wartość końcowa, ilość wystąpień np.-5, 5, 21\n",
    "print(f'The list of values for gamma are {gamma_range}')"
   ]
  },
  {
   "cell_type": "code",
   "execution_count": 165,
   "id": "63531e37",
   "metadata": {},
   "outputs": [
    {
     "name": "stdout",
     "output_type": "stream",
     "text": [
      "100%|████████████████████████████████████████████████████████████████████████████████████████████████████████████████████████████████████████████████████████████████| 100/100 [04:43<00:00,  2.83s/trial, best loss: -0.9191607059755256]\n"
     ]
    }
   ],
   "source": [
    "from sklearn.model_selection import StratifiedKFold, RandomizedSearchCV, cross_val_score\n",
    "from hyperopt import tpe, STATUS_OK, Trials, hp, fmin, STATUS_OK, space_eval\n",
    "from statistics import mean\n",
    "\n",
    "# Przestrzeń\n",
    "space = {\n",
    "    'C' : hp.choice('C', C_range),\n",
    "    'gamma' : hp.choice('gamma', gamma_range.tolist()+['scale', 'auto']),\n",
    "    'kernel' : hp.choice('kernel', ['linear', 'rbf'])\n",
    "}\n",
    "# W tym kroku użyjemy funkcji StratifiedKFold do podziału zbioru. Funkcja ta powala dokonac losowania stratyfikacyjnego w niezbyt\n",
    "# zrównoważonych zbiorach. Zobaczymy czy zastosowanie tej funkcji pozwoli nam w sposób bardziej dokładny. () \n",
    "\n",
    "kfold = StratifiedKFold(n_splits=3, shuffle=True, random_state=0)\n",
    "\n",
    "# Objective function\n",
    "def objective(params):\n",
    "    \n",
    "    svc = SVC(**params)\n",
    "    scores = cross_val_score(svc, X_train, y_train, cv=kfold, scoring='accuracy', n_jobs=-1)\n",
    "    # Extract the best score\n",
    "    best_score = mean(scores)\n",
    "    # Loss must be minimized\n",
    "    loss = - best_score\n",
    "    # Dictionary with information for evaluation\n",
    "    return {'loss': loss, 'params': params, 'status': STATUS_OK}\n",
    "# Trials to track progress\n",
    "bayes_trials = Trials()\n",
    "# Optimize\n",
    "best = fmin(fn = objective, space = space, algo = tpe.suggest, max_evals = 100, trials = bayes_trials) # max_eval powinno być wyższe np. 200"
   ]
  },
  {
   "cell_type": "code",
   "execution_count": 166,
   "id": "f534724e",
   "metadata": {},
   "outputs": [
    {
     "name": "stdout",
     "output_type": "stream",
     "text": [
      "{'C': 7, 'gamma': 32, 'kernel': 0}\n",
      "{'C': 0.025118864315095808, 'gamma': 'auto', 'kernel': 'linear'}\n"
     ]
    }
   ],
   "source": [
    "# Print the index of the best parameters\n",
    "print(best)\n",
    "# Print the values of the best parameters\n",
    "print(space_eval(space, best))"
   ]
  },
  {
   "cell_type": "code",
   "execution_count": 167,
   "id": "89598dca",
   "metadata": {},
   "outputs": [
    {
     "name": "stdout",
     "output_type": "stream",
     "text": [
      "              precision    recall  f1-score   support\n",
      "\n",
      "       aneks       0.91      0.91      0.91       726\n",
      "     odrębna       0.83      0.84      0.84       393\n",
      "\n",
      "    accuracy                           0.88      1119\n",
      "   macro avg       0.87      0.87      0.87      1119\n",
      "weighted avg       0.88      0.88      0.88      1119\n",
      "\n",
      "0.8838248436103664\n"
     ]
    }
   ],
   "source": [
    "from sklearn import metrics\n",
    "\n",
    "Bayes_predict_model_SVM = SVC(C=1.0, kernel = 'linear' , gamma=0.001, random_state=42).fit(X_train,y_train)\n",
    "y_pred_test = Bayes_predict_model_SVM.predict(X_test)\n",
    "print(metrics.classification_report(y_test,y_pred_test))\n",
    "print(metrics.accuracy_score(y_test, y_pred_test))"
   ]
  },
  {
   "cell_type": "code",
   "execution_count": 168,
   "id": "123392a6",
   "metadata": {},
   "outputs": [
    {
     "data": {
      "image/png": "[encoded data removed]",
      "text/plain": [
       "<Figure size 640x480 with 2 Axes>"
      ]
     },
     "metadata": {},
     "output_type": "display_data"
    }
   ],
   "source": [
    "cm_display = metrics.ConfusionMatrixDisplay(confusion_matrix = metrics.confusion_matrix(y_test,y_pred_test), display_labels = ['True', 'False'])\n",
    "cm_display.plot(cmap=plt.cm.Blues,values_format='g')\n",
    "plt.show()"
   ]
  }
 ],
 "metadata": {
  "kernelspec": {
   "display_name": "Python 3 (ipykernel)",
   "language": "python",
   "name": "python3"
  },
  "language_info": {
   "codemirror_mode": {
    "name": "ipython",
    "version": 3
   },
   "file_extension": ".py",
   "mimetype": "text/x-python",
   "name": "python",
   "nbconvert_exporter": "python",
   "pygments_lexer": "ipython3",
   "version": "3.8.6"
  }
 },
 "nbformat": 4,
 "nbformat_minor": 5
}
