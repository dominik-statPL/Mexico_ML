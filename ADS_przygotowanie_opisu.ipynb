{
 "cells": [
  {
   "cell_type": "markdown",
   "id": "6492d9d3",
   "metadata": {},
   "source": [
    "### Elements of preprocessing the data for model implementation\n",
    "\n",
    "This script guides you through the steps of preparing a text data using the functionality of the Spacy and sklearn libraries.\n",
    "> This script should not be treated as a top-down script, as it contains demonstrations of various approaches that should be considered when preparing data for the model.\n"
   ]
  },
  {
   "cell_type": "markdown",
   "id": "8e000d82",
   "metadata": {},
   "source": [
    "### Installation"
   ]
  },
  {
   "cell_type": "code",
   "execution_count": 3,
   "id": "aa022b7c",
   "metadata": {},
   "outputs": [],
   "source": [
    "# import libraries\n",
    "\n",
    "# import pyodbc # for connections with SQL databases\n",
    "import pandas as pd\n",
    "import numpy as np\n",
    "import matplotlib.pyplot as plt\n",
    "import spacy # do NLP https://pypi.org/project/spacy/\n",
    "import re # regular expressions\n",
    "import pickle # https://docs.python.org/3/library/pickle.html\n",
    "import os # for operating system https://docs.python.org/3/library/os.html"
   ]
  },
  {
   "cell_type": "markdown",
   "id": "a322298e",
   "metadata": {},
   "source": [
    "After insalling Spacy library we need an additional module for the needed language.\n",
    "<br> We can install it with a command: python -m spacy download en_core_web_sm.\n",
    "> In Spacy there are four modules for English:\n",
    "<br>     Documentation : https://spacy.io/models/en"
   ]
  },
  {
   "cell_type": "code",
   "execution_count": 4,
   "id": "4780fb2a",
   "metadata": {},
   "outputs": [
    {
     "name": "stdout",
     "output_type": "stream",
     "text": [
      "Collecting en-core-web-sm==3.7.1\n",
      "  Downloading https://github.com/explosion/spacy-models/releases/download/en_core_web_sm-3.7.1/en_core_web_sm-3.7.1-py3-none-any.whl (12.8 MB)\n",
      "     ---------------------------------------- 0.0/12.8 MB ? eta -:--:--\n",
      "     ---------------------------------------- 0.1/12.8 MB 4.3 MB/s eta 0:00:03\n",
      "     -- ------------------------------------- 0.8/12.8 MB 9.6 MB/s eta 0:00:02\n",
      "     ------ --------------------------------- 2.0/12.8 MB 15.7 MB/s eta 0:00:01\n",
      "     ----------- ---------------------------- 3.7/12.8 MB 23.5 MB/s eta 0:00:01\n",
      "     ------------------- -------------------- 6.1/12.8 MB 27.8 MB/s eta 0:00:01\n",
      "     ------------------------- -------------- 8.0/12.8 MB 32.1 MB/s eta 0:00:01\n",
      "     ------------------------------- ------- 10.3/12.8 MB 36.3 MB/s eta 0:00:01\n",
      "     ------------------------------------- - 12.2/12.8 MB 50.4 MB/s eta 0:00:01\n",
      "     --------------------------------------  12.8/12.8 MB 50.1 MB/s eta 0:00:01\n",
      "     --------------------------------------  12.8/12.8 MB 50.1 MB/s eta 0:00:01\n",
      "     --------------------------------------- 12.8/12.8 MB 32.7 MB/s eta 0:00:00\n",
      "Requirement already satisfied: spacy<3.8.0,>=3.7.2 in c:\\users\\domin\\appdata\\local\\programs\\python\\python311\\lib\\site-packages (from en-core-web-sm==3.7.1) (3.7.4)\n",
      "Requirement already satisfied: spacy-legacy<3.1.0,>=3.0.11 in c:\\users\\domin\\appdata\\local\\programs\\python\\python311\\lib\\site-packages (from spacy<3.8.0,>=3.7.2->en-core-web-sm==3.7.1) (3.0.12)\n",
      "Requirement already satisfied: spacy-loggers<2.0.0,>=1.0.0 in c:\\users\\domin\\appdata\\local\\programs\\python\\python311\\lib\\site-packages (from spacy<3.8.0,>=3.7.2->en-core-web-sm==3.7.1) (1.0.5)\n",
      "Requirement already satisfied: murmurhash<1.1.0,>=0.28.0 in c:\\users\\domin\\appdata\\local\\programs\\python\\python311\\lib\\site-packages (from spacy<3.8.0,>=3.7.2->en-core-web-sm==3.7.1) (1.0.10)\n",
      "Requirement already satisfied: cymem<2.1.0,>=2.0.2 in c:\\users\\domin\\appdata\\local\\programs\\python\\python311\\lib\\site-packages (from spacy<3.8.0,>=3.7.2->en-core-web-sm==3.7.1) (2.0.8)\n",
      "Requirement already satisfied: preshed<3.1.0,>=3.0.2 in c:\\users\\domin\\appdata\\local\\programs\\python\\python311\\lib\\site-packages (from spacy<3.8.0,>=3.7.2->en-core-web-sm==3.7.1) (3.0.9)\n",
      "Requirement already satisfied: thinc<8.3.0,>=8.2.2 in c:\\users\\domin\\appdata\\local\\programs\\python\\python311\\lib\\site-packages (from spacy<3.8.0,>=3.7.2->en-core-web-sm==3.7.1) (8.2.3)\n",
      "Requirement already satisfied: wasabi<1.2.0,>=0.9.1 in c:\\users\\domin\\appdata\\local\\programs\\python\\python311\\lib\\site-packages (from spacy<3.8.0,>=3.7.2->en-core-web-sm==3.7.1) (1.1.2)\n",
      "Requirement already satisfied: srsly<3.0.0,>=2.4.3 in c:\\users\\domin\\appdata\\local\\programs\\python\\python311\\lib\\site-packages (from spacy<3.8.0,>=3.7.2->en-core-web-sm==3.7.1) (2.4.8)\n",
      "Requirement already satisfied: catalogue<2.1.0,>=2.0.6 in c:\\users\\domin\\appdata\\local\\programs\\python\\python311\\lib\\site-packages (from spacy<3.8.0,>=3.7.2->en-core-web-sm==3.7.1) (2.0.10)\n",
      "Requirement already satisfied: weasel<0.4.0,>=0.1.0 in c:\\users\\domin\\appdata\\local\\programs\\python\\python311\\lib\\site-packages (from spacy<3.8.0,>=3.7.2->en-core-web-sm==3.7.1) (0.3.4)\n",
      "Requirement already satisfied: typer<0.10.0,>=0.3.0 in c:\\users\\domin\\appdata\\local\\programs\\python\\python311\\lib\\site-packages (from spacy<3.8.0,>=3.7.2->en-core-web-sm==3.7.1) (0.9.4)\n",
      "Requirement already satisfied: smart-open<7.0.0,>=5.2.1 in c:\\users\\domin\\appdata\\local\\programs\\python\\python311\\lib\\site-packages (from spacy<3.8.0,>=3.7.2->en-core-web-sm==3.7.1) (6.4.0)\n",
      "Requirement already satisfied: tqdm<5.0.0,>=4.38.0 in c:\\users\\domin\\appdata\\local\\programs\\python\\python311\\lib\\site-packages (from spacy<3.8.0,>=3.7.2->en-core-web-sm==3.7.1) (4.66.4)\n",
      "Requirement already satisfied: requests<3.0.0,>=2.13.0 in c:\\users\\domin\\appdata\\local\\programs\\python\\python311\\lib\\site-packages (from spacy<3.8.0,>=3.7.2->en-core-web-sm==3.7.1) (2.28.2)\n",
      "Requirement already satisfied: pydantic!=1.8,!=1.8.1,<3.0.0,>=1.7.4 in c:\\users\\domin\\appdata\\local\\programs\\python\\python311\\lib\\site-packages (from spacy<3.8.0,>=3.7.2->en-core-web-sm==3.7.1) (1.10.7)\n",
      "Requirement already satisfied: jinja2 in c:\\users\\domin\\appdata\\local\\programs\\python\\python311\\lib\\site-packages (from spacy<3.8.0,>=3.7.2->en-core-web-sm==3.7.1) (3.1.2)\n",
      "Requirement already satisfied: setuptools in c:\\users\\domin\\appdata\\local\\programs\\python\\python311\\lib\\site-packages (from spacy<3.8.0,>=3.7.2->en-core-web-sm==3.7.1) (65.5.0)\n",
      "Requirement already satisfied: packaging>=20.0 in c:\\users\\domin\\appdata\\roaming\\python\\python311\\site-packages (from spacy<3.8.0,>=3.7.2->en-core-web-sm==3.7.1) (23.0)\n",
      "Requirement already satisfied: langcodes<4.0.0,>=3.2.0 in c:\\users\\domin\\appdata\\local\\programs\\python\\python311\\lib\\site-packages (from spacy<3.8.0,>=3.7.2->en-core-web-sm==3.7.1) (3.4.0)\n",
      "Requirement already satisfied: numpy>=1.19.0 in c:\\users\\domin\\appdata\\local\\programs\\python\\python311\\lib\\site-packages (from spacy<3.8.0,>=3.7.2->en-core-web-sm==3.7.1) (1.24.1)\n",
      "Requirement already satisfied: language-data>=1.2 in c:\\users\\domin\\appdata\\local\\programs\\python\\python311\\lib\\site-packages (from langcodes<4.0.0,>=3.2.0->spacy<3.8.0,>=3.7.2->en-core-web-sm==3.7.1) (1.2.0)\n",
      "Requirement already satisfied: typing-extensions>=4.2.0 in c:\\users\\domin\\appdata\\local\\programs\\python\\python311\\lib\\site-packages (from pydantic!=1.8,!=1.8.1,<3.0.0,>=1.7.4->spacy<3.8.0,>=3.7.2->en-core-web-sm==3.7.1) (4.5.0)\n",
      "Requirement already satisfied: charset-normalizer<4,>=2 in c:\\users\\domin\\appdata\\local\\programs\\python\\python311\\lib\\site-packages (from requests<3.0.0,>=2.13.0->spacy<3.8.0,>=3.7.2->en-core-web-sm==3.7.1) (3.0.1)\n",
      "Requirement already satisfied: idna<4,>=2.5 in c:\\users\\domin\\appdata\\local\\programs\\python\\python311\\lib\\site-packages (from requests<3.0.0,>=2.13.0->spacy<3.8.0,>=3.7.2->en-core-web-sm==3.7.1) (3.4)\n",
      "Requirement already satisfied: urllib3<1.27,>=1.21.1 in c:\\users\\domin\\appdata\\local\\programs\\python\\python311\\lib\\site-packages (from requests<3.0.0,>=2.13.0->spacy<3.8.0,>=3.7.2->en-core-web-sm==3.7.1) (1.26.14)\n",
      "Requirement already satisfied: certifi>=2017.4.17 in c:\\users\\domin\\appdata\\local\\programs\\python\\python311\\lib\\site-packages (from requests<3.0.0,>=2.13.0->spacy<3.8.0,>=3.7.2->en-core-web-sm==3.7.1) (2022.12.7)\n",
      "Requirement already satisfied: blis<0.8.0,>=0.7.8 in c:\\users\\domin\\appdata\\local\\programs\\python\\python311\\lib\\site-packages (from thinc<8.3.0,>=8.2.2->spacy<3.8.0,>=3.7.2->en-core-web-sm==3.7.1) (0.7.11)\n",
      "Requirement already satisfied: confection<1.0.0,>=0.0.1 in c:\\users\\domin\\appdata\\local\\programs\\python\\python311\\lib\\site-packages (from thinc<8.3.0,>=8.2.2->spacy<3.8.0,>=3.7.2->en-core-web-sm==3.7.1) (0.1.4)\n",
      "Requirement already satisfied: colorama in c:\\users\\domin\\appdata\\roaming\\python\\python311\\site-packages (from tqdm<5.0.0,>=4.38.0->spacy<3.8.0,>=3.7.2->en-core-web-sm==3.7.1) (0.4.6)\n",
      "Requirement already satisfied: click<9.0.0,>=7.1.1 in c:\\users\\domin\\appdata\\local\\programs\\python\\python311\\lib\\site-packages (from typer<0.10.0,>=0.3.0->spacy<3.8.0,>=3.7.2->en-core-web-sm==3.7.1) (8.1.7)\n",
      "Requirement already satisfied: cloudpathlib<0.17.0,>=0.7.0 in c:\\users\\domin\\appdata\\local\\programs\\python\\python311\\lib\\site-packages (from weasel<0.4.0,>=0.1.0->spacy<3.8.0,>=3.7.2->en-core-web-sm==3.7.1) (0.16.0)\n",
      "Requirement already satisfied: MarkupSafe>=2.0 in c:\\users\\domin\\appdata\\local\\programs\\python\\python311\\lib\\site-packages (from jinja2->spacy<3.8.0,>=3.7.2->en-core-web-sm==3.7.1) (2.1.3)\n",
      "Requirement already satisfied: marisa-trie>=0.7.7 in c:\\users\\domin\\appdata\\local\\programs\\python\\python311\\lib\\site-packages (from language-data>=1.2->langcodes<4.0.0,>=3.2.0->spacy<3.8.0,>=3.7.2->en-core-web-sm==3.7.1) (1.1.1)\n",
      "Installing collected packages: en-core-web-sm\n",
      "Successfully installed en-core-web-sm-3.7.1\n",
      "\u001b[38;5;2m✔ Download and installation successful\u001b[0m\n",
      "You can now load the package via spacy.load('en_core_web_sm')\n"
     ]
    },
    {
     "name": "stderr",
     "output_type": "stream",
     "text": [
      "\n",
      "[notice] A new release of pip is available: 23.3.1 -> 24.0\n",
      "[notice] To update, run: python.exe -m pip install --upgrade pip\n"
     ]
    }
   ],
   "source": [
    "!python -m spacy download en_core_web_sm"
   ]
  },
  {
   "cell_type": "markdown",
   "id": "4e6fbe7d",
   "metadata": {},
   "source": [
    "### Reading data"
   ]
  },
  {
   "cell_type": "code",
   "execution_count": 6,
   "id": "328abcbc",
   "metadata": {},
   "outputs": [
    {
     "data": {
      "text/plain": [
       "'c:\\\\Users\\\\domin\\\\GitHub_repo\\\\Mexico_ML'"
      ]
     },
     "execution_count": 6,
     "metadata": {},
     "output_type": "execute_result"
    }
   ],
   "source": [
    "path = os.getcwd()\n",
    "path"
   ]
  },
  {
   "cell_type": "code",
   "execution_count": 17,
   "id": "2e562991",
   "metadata": {},
   "outputs": [
    {
     "data": {
      "text/html": [
       "<div>\n",
       "<style scoped>\n",
       "    .dataframe tbody tr th:only-of-type {\n",
       "        vertical-align: middle;\n",
       "    }\n",
       "\n",
       "    .dataframe tbody tr th {\n",
       "        vertical-align: top;\n",
       "    }\n",
       "\n",
       "    .dataframe thead th {\n",
       "        text-align: right;\n",
       "    }\n",
       "</style>\n",
       "<table border=\"1\" class=\"dataframe\">\n",
       "  <thead>\n",
       "    <tr style=\"text-align: right;\">\n",
       "      <th></th>\n",
       "      <th>ad_id</th>\n",
       "      <th>furniture_class</th>\n",
       "      <th>descr_eng</th>\n",
       "    </tr>\n",
       "  </thead>\n",
       "  <tbody>\n",
       "    <tr>\n",
       "      <th>0</th>\n",
       "      <td>29436059.0</td>\n",
       "      <td>1</td>\n",
       "      <td>now available intimate studio apartment with a...</td>\n",
       "    </tr>\n",
       "    <tr>\n",
       "      <th>1</th>\n",
       "      <td>30025935.0</td>\n",
       "      <td>9</td>\n",
       "      <td>location Saint Floriana Street Rondo Jagiellon...</td>\n",
       "    </tr>\n",
       "    <tr>\n",
       "      <th>2</th>\n",
       "      <td>30303405.0</td>\n",
       "      <td>1</td>\n",
       "      <td>attention occasional lease please contact only...</td>\n",
       "    </tr>\n",
       "    <tr>\n",
       "      <th>3</th>\n",
       "      <td>29885579.0</td>\n",
       "      <td>9</td>\n",
       "      <td>administrative costs of PLN 600 should be adde...</td>\n",
       "    </tr>\n",
       "    <tr>\n",
       "      <th>4</th>\n",
       "      <td>30221793.0</td>\n",
       "      <td>1</td>\n",
       "      <td>m2 27m2 Dąbrowa furnished, equipped, proximity...</td>\n",
       "    </tr>\n",
       "  </tbody>\n",
       "</table>\n",
       "</div>"
      ],
      "text/plain": [
       "        ad_id furniture_class  \\\n",
       "0  29436059.0        1          \n",
       "1  30025935.0               9   \n",
       "2  30303405.0        1          \n",
       "3  29885579.0               9   \n",
       "4  30221793.0        1          \n",
       "\n",
       "                                           descr_eng  \n",
       "0  now available intimate studio apartment with a...  \n",
       "1  location Saint Floriana Street Rondo Jagiellon...  \n",
       "2  attention occasional lease please contact only...  \n",
       "3  administrative costs of PLN 600 should be adde...  \n",
       "4  m2 27m2 Dąbrowa furnished, equipped, proximity...  "
      ]
     },
     "execution_count": 17,
     "metadata": {},
     "output_type": "execute_result"
    }
   ],
   "source": [
    "# column df.descr_eng presents descriptions of apartments for rent\n",
    "# column df.furniture_class stores manually classified information:\n",
    "# labeled furniture class (furnished = 1, not furnished = 0, no information = 9). \n",
    "df=pd.read_pickle(f'{path}\\dataset_mexico.pkl')\n",
    "df.head()\n",
    "\n"
   ]
  },
  {
   "cell_type": "code",
   "execution_count": 15,
   "id": "2270da47",
   "metadata": {},
   "outputs": [
    {
     "data": {
      "text/plain": [
       "array(['0       ', '1       ', '9'], dtype=object)"
      ]
     },
     "execution_count": 15,
     "metadata": {},
     "output_type": "execute_result"
    }
   ],
   "source": [
    "#df.info()\n",
    "#df['furniture_class'].describe()\n",
    "#df.furniture_class.unique()\n",
    "np.unique(df['furniture_class'])"
   ]
  },
  {
   "cell_type": "code",
   "execution_count": 16,
   "id": "0e0d1451",
   "metadata": {},
   "outputs": [
    {
     "data": {
      "text/plain": [
       "array(['0       ', '1       '], dtype=object)"
      ]
     },
     "execution_count": 16,
     "metadata": {},
     "output_type": "execute_result"
    }
   ],
   "source": [
    "# lets decide to drop the missing values\n",
    "\n",
    "df.drop(df.index[df['furniture_class'] == '9'], inplace=True)\n",
    "df.furniture_class.unique()\n"
   ]
  },
  {
   "cell_type": "code",
   "execution_count": 22,
   "id": "c7f18595",
   "metadata": {},
   "outputs": [
    {
     "data": {
      "text/plain": [
       "array(['1       ', '0', '0       '], dtype=object)"
      ]
     },
     "execution_count": 22,
     "metadata": {},
     "output_type": "execute_result"
    }
   ],
   "source": [
    "# or we can also decide to recode 'no information' to 'not furnished'\n",
    "df['furniture_class'].replace('9', '0', inplace=True)\n",
    "df.furniture_class.unique()"
   ]
  },
  {
   "cell_type": "code",
   "execution_count": 23,
   "id": "3bf6d425",
   "metadata": {},
   "outputs": [
    {
     "data": {
      "text/plain": [
       "array(['1', '0'], dtype=object)"
      ]
     },
     "execution_count": 23,
     "metadata": {},
     "output_type": "execute_result"
    }
   ],
   "source": [
    "# use lambda for removing blank spaces\n",
    "df['furniture_class'] = df['furniture_class'].apply(lambda x: x.strip())\n",
    "df.furniture_class.unique()"
   ]
  },
  {
   "cell_type": "markdown",
   "id": "49cfcbb4",
   "metadata": {},
   "source": [
    "### Przygotowanie danych\n"
   ]
  },
  {
   "cell_type": "code",
   "execution_count": 6,
   "id": "02b6a75a",
   "metadata": {},
   "outputs": [
    {
     "data": {
      "text/plain": [
       "pandas.core.series.Series"
      ]
     },
     "execution_count": 6,
     "metadata": {},
     "output_type": "execute_result"
    }
   ],
   "source": [
    "type(df['descr_eng'])"
   ]
  },
  {
   "cell_type": "markdown",
   "id": "a61a6815",
   "metadata": {},
   "source": [
    "#### Konwersja na małe znaki. \n",
    "W przypadku tych danych wielkość liter nie ma wpływu na klasyfikację."
   ]
  },
  {
   "cell_type": "code",
   "execution_count": 4,
   "id": "15739da2",
   "metadata": {},
   "outputs": [
    {
     "data": {
      "text/plain": [
       "0     już dostępna kameralna kawalerka z klimatyzac...\n",
       "2     uwaga najem okazjonalny prosimy o kontakt tyl...\n",
       "4    m2 27m2 dąbrowa umeblowane wyposażone bliskość...\n",
       "5     nowoczesne mieszkanie po remoncie oferujemy d...\n",
       "6     oferuję do wynajęcia przepiękne świeżo wyremo...\n",
       "Name: descr, dtype: object"
      ]
     },
     "execution_count": 4,
     "metadata": {},
     "output_type": "execute_result"
    }
   ],
   "source": [
    "df['descr_eng'] = df['descr_eng'].str.lower()\n",
    "df['descr_eng'].head()"
   ]
  },
  {
   "cell_type": "markdown",
   "id": "e2fc5fbf",
   "metadata": {},
   "source": [
    "#### Removing unnecessary characters"
   ]
  },
  {
   "cell_type": "markdown",
   "id": "8ade0c71",
   "metadata": {},
   "source": [
    "Lets use regex. \n",
    "> some of the actions are also by default implemented in the later used function, but lets try to do some modification by ourselves.\n",
    "\n",
    "We will change all characters other than letters and digits, to space. "
   ]
  },
  {
   "cell_type": "code",
   "execution_count": 8,
   "id": "39611677",
   "metadata": {},
   "outputs": [],
   "source": [
    "df['descr_eng'] = df['descr_eng'].apply(lambda x: re.sub(r'[^a-z0-9]+',' ', str(x)))"
   ]
  },
  {
   "cell_type": "markdown",
   "id": "8f5b0cf7",
   "metadata": {},
   "source": [
    "#### Tokenizacja"
   ]
  },
  {
   "cell_type": "markdown",
   "id": "5acb1a36",
   "metadata": {},
   "source": [
    "Pamiętajmy o kolejności, warto zrobić tokenizację przed Stop Words. \n",
    "> Podobno NLTK (inna biblioteka) jest lepsza do tokenizacji, ale tu używamy Spacy. \n",
    "\n",
    "SpaCy posiada dużo opcji tokenizacji. \n",
    "> Poniższej celi nie należy wykonywać jeśli mamy zamiar używać CountVectorizer. CountVectorizer nie może bezpośrednio obsłużyć serii list, dlatego pojawia się błąd. Zamiast tego można użyć MultiLabelBinarizer, ale nie ma takiej potrzeby bo CV domyślnie dokonuje tokenizacji tekstu. Ponadto posiada szereg opcji, które ułatwiaja przygotowanie i transformację opisu o czym będzie dalej. \n",
    "\n",
    "Przykład dotyczy wykorzystania spacy do tokenizcji i został utworzony na wypadek gdyby ktoś konieczni chciał oprzeć się tylko o tą bibliotekę prz opracowywaniu tekstu."
   ]
  },
  {
   "cell_type": "code",
   "execution_count": 15,
   "id": "f7e315ec",
   "metadata": {},
   "outputs": [
    {
     "data": {
      "text/plain": [
       "0    ( , już, dostępna, kameralna, kawalerka, z, kl...\n",
       "2    ( , uwaga, najem, okazjonalny, prosimy, o, kon...\n",
       "4    (m2, 27m2, dąbrowa, umeblowane, wyposażone, bl...\n",
       "5    ( , nowoczesne, mieszkanie, po, remoncie, ofer...\n",
       "6    ( , oferuję, do, wynajęcia, przepiękne, świeżo...\n",
       "Name: descr, dtype: object"
      ]
     },
     "execution_count": 15,
     "metadata": {},
     "output_type": "execute_result"
    }
   ],
   "source": [
    "from spacy.lang.pl import Polish\n",
    "nlp = Polish()\n",
    "# Create a Tokenizer with the default settings for Polish\n",
    "# including punctuation rules and exceptions\n",
    "tokenizer = nlp.tokenizer\n",
    "df['descr'] =  df['descr'].apply(lambda x: tokenizer(x))\n",
    "df['descr'].head()"
   ]
  },
  {
   "cell_type": "markdown",
   "id": "43ef7125",
   "metadata": {},
   "source": [
    "#### Stop Words\n",
    "Czyli słowa, które nic nie wnoszą do opisu (w sensie budowy klasyfikacji), a przy tworzeniu modelu mogą wprowadzać szumy. \n",
    "Najczęściej występują w formie dokumentu tekstowego, w którym są wymienione słowa niepotrzebne z punktu widzenia treści. Oczywiście możemy definiować swój plik ze słowami niechcianymi i do niego się odwoływać. Stop words może byc też krótką listą zdefiniowaną przez nas. W poniższym kodzie odwołuję się do pliku zdefiniowanego w polskim modelu SpaCy. Najpierw ładuję polski model, a następnie przypisuję do zmiennej stopwords standardowy plik z modelu. Słownik ten wykorzystuję równiez w prosty sposób przy obróbce tekstu przez CountVectorizer."
   ]
  },
  {
   "cell_type": "code",
   "execution_count": 24,
   "id": "c96be0cb",
   "metadata": {},
   "outputs": [
    {
     "name": "stdout",
     "output_type": "stream",
     "text": [
      "<class 'set'>\n"
     ]
    }
   ],
   "source": [
    "# Przyjrzyjmy sie funkcjonalności funkcji stopwords oraz spsobom modyfikacji listy słów. Przed zapuszczeniem stopwords konieczna\n",
    "# jest np. tokenizacja która zmienia string w listę. Inaczej będą ciekawe efekty zapuszczenia stopwords.  \n",
    "\n",
    "# z biblioteki Spacy łaldujemy słownik \n",
    "en=spacy.load(\"en_core_web_sm\")\n",
    "\n",
    "# tu ładujemy słownik stopwordsów do zmiennej stopwords\n",
    "stopwords = en.Defaults.stop_words\n",
    "\n",
    "# testujemy typ zmiennej \n",
    "print(type(stopwords))\n",
    "\n",
    "# typ zmiennej to Set. Wykorzystamy więc metody związane z Set-ami do zarządzania i modyfikacji listy wyrażeń do przetwarzania"
   ]
  },
  {
   "cell_type": "code",
   "execution_count": 25,
   "id": "5be79d24",
   "metadata": {},
   "outputs": [
    {
     "name": "stdout",
     "output_type": "stream",
     "text": [
      "{'empty', 'again', 'until', 'behind', 'hereby', 'four', 'anyone', '‘d', 'towards', '’ve', 'first', 'ca', 'more', 'has', 'nevertheless', 'some', 'although', 'five', 'becomes', 'see', 'why', 'am', 'eleven', 'forty', 'whereafter', 'other', 'hence', 'sometime', '‘re', 'next', 'whereupon', 'keep', 'must', 'show', 'n’t', 'even', '’s', 'only', 'part', 'almost', 'whether', 'whom', 'whence', 'ourselves', 'every', 'front', '’ll', 'top', 'regarding', 'very', 'became', 'also', 'how', 'your', 'eight', 'too', 'whoever', 'just', '‘s', 'seems', 'go', 'herein', 'could', 'alone', \"'m\", 'together', 'during', 'take', 'moreover', 'serious', 'somehow', 'had', 'seeming', 'once', 'about', 'perhaps', 'move', \"n't\", 'whatever', 'per', 'most', 'hundred', 'who', 'yourselves', 'others', 'them', 'seemed', 'either', 'such', \"'s\", 'nobody', 'this', 'mine', 'he', 'toward', 'throughout', 'yours', 'bottom', 'never', 'do', 'wherein', 'whereby', 'whole', 'hers', 'upon', 'besides', 'within', 'a', 'something', 'through', 'thus', 'does', 'as', 'latterly', 'least', 'namely', \"'d\", 'somewhere', 'into', 'full', 'hereupon', 'will', 'their', 'so', 'but', 're', 'often', 'you', 'latter', 'beside', '’m', 'the', 'our', 'several', 'except', 'by', 'ten', \"'re\", 'been', 'sometimes', 'get', 'much', '‘ll', 'are', 'than', 'indeed', 'everything', 'therefore', 'therein', 'become', 'anyhow', 'name', 'any', 'sixty', 'used', 'anywhere', 'give', 'cannot', 'beforehand', 'without', 'hereafter', 'be', 'beyond', 'whither', 'we', 'may', 'between', 'can', 'though', \"'ve\", 'above', 'whereas', 'with', 'nor', 'around', 'where', 'n‘t', 'same', 'she', 'afterwards', 'one', 'there', 'back', 'because', 'themselves', 'few', 'were', 'among', 'own', 'doing', 'under', 'now', 'of', '‘ve', 'call', 'itself', 'anyway', 'his', 'off', 'us', 'already', 'last', 'whenever', 'against', 'everywhere', 'if', 'might', 'thereupon', 'done', 'due', 'someone', 'meanwhile', 'is', 'always', 'becoming', 'being', 'these', 'noone', 'no', 'then', 'further', 'whose', 'onto', 'fifty', 'i', 'nine', 'many', 'over', 'quite', 'anything', 'ever', 'yourself', 'across', 'nowhere', 'mostly', 'two', 'what', 'another', \"'ll\", 'thereafter', 'put', 'neither', 'former', 'twelve', 'when', 'was', 'still', 'up', 'fifteen', 'from', 'have', 'not', 'an', 'none', 'for', 'they', '‘m', 'everyone', 'did', 'in', 'should', 'wherever', 'to', 'seem', 'thence', 'its', 'made', 'rather', 'side', 'him', 'make', 'ours', 'it', 'all', 'since', 'otherwise', 'else', 'which', 'himself', 'here', 'me', 'at', 'yet', 'down', 'six', 'below', 'her', 'while', 'amongst', 'really', 'each', 'those', 'using', 'say', 'via', 'and', 'thru', 'formerly', '’re', 'out', 'third', 'enough', 'three', 'less', 'or', 'my', 'elsewhere', '’d', 'both', 'on', 'amount', 'would', 'unless', 'myself', 'nothing', 'various', 'thereby', 'twenty', 'that', 'however', 'before', 'well', 'please', 'herself', 'along', 'after'}\n"
     ]
    }
   ],
   "source": [
    "# przegląd wyrażeń w zmiennej stopwords\n",
    "print(stopwords)"
   ]
  },
  {
   "cell_type": "code",
   "execution_count": 26,
   "id": "bbdc07fb",
   "metadata": {},
   "outputs": [
    {
     "name": "stdout",
     "output_type": "stream",
     "text": [
      "326\n"
     ]
    }
   ],
   "source": [
    "# liczba wyrażeń w stopwords\n",
    "print(len(stopwords))"
   ]
  },
  {
   "cell_type": "code",
   "execution_count": 30,
   "id": "7e818427",
   "metadata": {},
   "outputs": [
    {
     "name": "stdout",
     "output_type": "stream",
     "text": [
      "True\n",
      "328\n"
     ]
    }
   ],
   "source": [
    "# dodawanie wyrażeń do pierwotnego zestawienia tj. tych które chcemy usunąć np. z opisu. \n",
    "# Wyrazy z Bag_of_words uzyskane w dalszej części kodu\n",
    "\n",
    "stop = {'mexicocity'}\n",
    "stopwords = stopwords.union(stop)\n",
    "\n",
    "print('mexicocity' in stopwords)\n",
    "print(len(stopwords))"
   ]
  },
  {
   "cell_type": "code",
   "execution_count": 32,
   "id": "41854f2a",
   "metadata": {},
   "outputs": [
    {
     "name": "stdout",
     "output_type": "stream",
     "text": [
      "{'again', 'beforehand', 'until', 'without', 'behind', 'hereafter', 'be', 'beyond', 'hereby', 'four', 'whither', 'anyone', '‘d', 'towards', '’ve', 'first', 'we', 'may', 'ca', 'between', 'can', 'though', \"'ve\", 'above', 'whereas', 'more', 'with', 'nor', 'around', 'where', 'n‘t', 'same', 'she', 'has', 'nevertheless', 'afterwards', 'some', 'one', 'although', 'five', 'becomes', 'there', 'see', 'why', 'am', 'eleven', 'back', 'because', 'themselves', 'few', 'were', 'forty', 'whereafter', 'among', 'own', 'doing', 'other', 'under', 'hence', 'sometime', '‘re', 'now', 'of', '‘ve', 'next', 'whereupon', 'call', 'keep', 'must', 'itself', 'show', 'n’t', 'anyway', 'even', 'his', '’s', 'off', 'only', 'us', 'already', 'last', 'whenever', 'part', 'almost', 'against', 'everywhere', 'if', 'might', 'thereupon', 'done', 'due', 'whether', 'whom', 'whence', 'someone', 'ourselves', 'every', 'front', '’ll', 'top', 'meanwhile', 'is', 'regarding', 'very', 'always', 'becoming', 'being', 'these', 'noone', 'became', 'no', 'then', 'further', 'whose', 'also', 'onto', 'fifty', 'i', 'nine', 'many', 'over', 'how', 'quite', 'anything', 'your', 'eight', 'ever', 'yourself', 'across', 'nowhere', 'mostly', 'two', 'what', 'too', 'another', \"'ll\", 'thereafter', 'whoever', 'put', 'just', '‘s', 'neither', 'seems', 'go', 'herein', 'former', 'twelve', 'could', 'alone', \"'m\", 'when', 'together', 'during', 'take', 'was', 'still', 'moreover', 'serious', 'up', 'fifteen', 'somehow', 'from', 'have', 'not', 'an', 'had', 'seeming', 'none', 'for', 'once', 'about', 'perhaps', 'they', 'move', \"n't\", 'whatever', '‘m', 'everyone', 'did', 'in', 'should', 'wherever', 'to', 'per', 'most', 'hundred', 'who', 'seem', 'thence', 'yourselves', 'its', 'made', 'others', 'rather', 'side', 'them', 'seemed', 'either', 'such', 'him', 'make', \"'s\", 'nobody', 'mexicocity', 'this', 'mine', 'ours', 'it', 'he', 'toward', 'all', 'since', 'throughout', 'otherwise', 'else', 'which', 'yours', 'bottom', 'never', 'himself', 'do', 'here', 'wherein', 'whereby', 'whole', 'me', 'at', 'hers', 'yet', 'down', 'six', 'below', 'upon', 'her', 'while', 'amongst', 'really', 'besides', 'within', 'a', 'each', 'those', 'something', 'through', 'using', 'say', 'via', 'and', 'thru', 'thus', 'formerly', '’re', 'out', 'third', 'does', 'enough', 'three', 'as', 'less', 'latterly', 'or', 'least', 'my', 'namely', \"'d\", 'elsewhere', '’d', 'somewhere', 'both', 'into', 'on', 'amount', 'would', 'full', 'hereupon', 'will', 'unless', 'their', 'so', 'myself', 'nothing', 'various', 'but', 're', 'often', 'you', 'latter', 'thereby', 'beside', '’m', 'twenty', 'the', 'that', 'our', 'however', 'several', 'except', 'by', 'ten', 'before', \"'re\", 'been', 'sometimes', 'get', 'much', 'well', '‘ll', 'are', 'than', 'please', 'indeed', 'everything', 'therefore', 'therein', 'become', 'herself', 'anyhow', 'name', 'any', 'along', 'sixty', 'used', 'anywhere', 'after', 'give', 'cannot'}\n",
      "326\n"
     ]
    }
   ],
   "source": [
    "# odejmowanie wyrażeń z pierwotnego zestawienia tj. tych wyrażeń których nie chcemy usunąć np z opisu. Tu odejme  pięć \n",
    "stop2 = {'empty'}\n",
    "stopwords = stopwords.difference(stop2)\n",
    "\n",
    "print(stopwords)\n",
    "print(len(stopwords))"
   ]
  },
  {
   "cell_type": "markdown",
   "id": "cf2d6544",
   "metadata": {},
   "source": [
    "#### Zastosowanie wbudowanych funkcji CountVectorizer() do odcięcia mało licznych słów\n",
    "Czasami transformacja i wykorzystanie całego słownictwa zawartego w opisie nie jest efektywne, ponieważ dane mogą zawierać  wyjątkowo rzadkie lub niechciane słowa, które przekazane do TfidfVectorizer().fit() dodadzą w przyszłości niechciane wymiary do danych wejściowych. \n",
    " \n",
    " Jedną z technik stosowanych w tym przypadku byłoby na przykład wydrukowanie częstotliwości słów w dokumentach, \n",
    " a następnie ustawienie dla nich określonego progu. \n",
    " \n",
    " Przykładowa analiza: wyobraźmy sobie, że ustawiliśmy próg 100, a korpus opisu danych składa się z 10000 słów. \n",
    " Po przyjrzeniu się częstotliwości słów, 20 słów pojawia się mniej niż 100 razy. \n",
    " To zbyt często aby te słowa usunąć. Ustawiamy max_features=200 i analizujemy wyniki. Po dobraniu odpowiedniej liczby  przy \n",
    " max_features, gdy najniższa liczba wystąpień słów spadnie do akceptowalnych wyników można zaczynać. Liczba ta oczywiście jest\n",
    " zależna od wielkości zbioru uczącego i samego korpusu.\n",
    " Jeśli parametr max_features jest ustawiony na Brak, podczas transformacji TF-IDF uwzględniany jest cały opis.\n",
    " Tu wykorzystam tą funkcję w inny sposób. Ustawię max_features=100 i będę analizował wystąpienia słów, a ewidentnie zbędne dodam do StopWords. Przeprowadzę jedną iterację w celu demonstracji. Iteracje można powtarzać oczywiście w celu lepszego przygotowania zbioru \n",
    "\n",
    " Jednakże przed wykorzystaniem możliwości CountVectorizer wykorzystamy słownik stopwords.\n"
   ]
  },
  {
   "cell_type": "code",
   "execution_count": 33,
   "id": "1d08fa8f",
   "metadata": {},
   "outputs": [],
   "source": [
    "stopwords = list(stopwords)"
   ]
  },
  {
   "cell_type": "code",
   "execution_count": 45,
   "id": "cda29cfb",
   "metadata": {},
   "outputs": [
    {
     "name": "stderr",
     "output_type": "stream",
     "text": [
      "c:\\Users\\domin\\AppData\\Local\\Programs\\Python\\Python311\\Lib\\site-packages\\sklearn\\feature_extraction\\text.py:408: UserWarning: Your stop_words may be inconsistent with your preprocessing. Tokenizing the stop words generated tokens ['ll', 've'] not in stop_words.\n",
      "  warnings.warn(\n"
     ]
    },
    {
     "data": {
      "text/plain": [
       "array(['000', '48', '500', 'access', 'according', 'additional',\n",
       "       'administrative', 'apartment', 'appliances', 'approx', 'area',\n",
       "       'available', 'balcony', 'bathroom', 'bed', 'bedroom', 'building',\n",
       "       'built', 'bus', 'center', 'city', 'civil', 'close', 'code',\n",
       "       'commercial', 'consists', 'constitute', 'consumption', 'contact',\n",
       "       'deposit', 'dishwasher', 'electricity', 'elevator', 'equipment',\n",
       "       'equipped', 'estate', 'fee', 'fees', 'floor', 'fridge', 'fully',\n",
       "       'furnished', 'furniture', 'garage', 'gas', 'good', 'hall',\n",
       "       'heating', 'high', 'hob', 'includes', 'information', 'invite',\n",
       "       'kitchen', 'kitchenette', 'large', 'living', 'located', 'location',\n",
       "       'm2', 'machine', 'meaning', 'minutes', 'modern', 'month', 'nearby',\n",
       "       'new', 'number', 'offer', 'office', 'oven', 'park', 'parking',\n",
       "       'pln', 'premises', 'presentation', 'price', 'property', 'quiet',\n",
       "       'real', 'rent', 'rental', 'room', 'rooms', 'separate', 'service',\n",
       "       'shower', 'space', 'spacious', 'standard', 'street', 'table',\n",
       "       'toilet', 'tv', 'type', 'ul', 'underground', 'wardrobe', 'washing',\n",
       "       'water'], dtype=object)"
      ]
     },
     "execution_count": 45,
     "metadata": {},
     "output_type": "execute_result"
    }
   ],
   "source": [
    "from sklearn.feature_extraction.text import CountVectorizer\n",
    "\n",
    "vectorizer = CountVectorizer(max_features=100, stop_words=stopwords)\n",
    "matrix = vectorizer.fit_transform(df['descr_eng'])\n",
    "words = vectorizer.get_feature_names_out()\n",
    "words"
   ]
  },
  {
   "cell_type": "code",
   "execution_count": 46,
   "id": "8f566a77",
   "metadata": {},
   "outputs": [
    {
     "data": {
      "text/html": [
       "<div>\n",
       "<style scoped>\n",
       "    .dataframe tbody tr th:only-of-type {\n",
       "        vertical-align: middle;\n",
       "    }\n",
       "\n",
       "    .dataframe tbody tr th {\n",
       "        vertical-align: top;\n",
       "    }\n",
       "\n",
       "    .dataframe thead th {\n",
       "        text-align: right;\n",
       "    }\n",
       "</style>\n",
       "<table border=\"1\" class=\"dataframe\">\n",
       "  <thead>\n",
       "    <tr style=\"text-align: right;\">\n",
       "      <th></th>\n",
       "      <th>000</th>\n",
       "      <th>48</th>\n",
       "      <th>500</th>\n",
       "      <th>access</th>\n",
       "      <th>according</th>\n",
       "      <th>additional</th>\n",
       "      <th>administrative</th>\n",
       "      <th>apartment</th>\n",
       "      <th>appliances</th>\n",
       "      <th>approx</th>\n",
       "      <th>...</th>\n",
       "      <th>street</th>\n",
       "      <th>table</th>\n",
       "      <th>toilet</th>\n",
       "      <th>tv</th>\n",
       "      <th>type</th>\n",
       "      <th>ul</th>\n",
       "      <th>underground</th>\n",
       "      <th>wardrobe</th>\n",
       "      <th>washing</th>\n",
       "      <th>water</th>\n",
       "    </tr>\n",
       "  </thead>\n",
       "  <tbody>\n",
       "    <tr>\n",
       "      <th>0</th>\n",
       "      <td>0</td>\n",
       "      <td>1</td>\n",
       "      <td>0</td>\n",
       "      <td>0</td>\n",
       "      <td>1</td>\n",
       "      <td>2</td>\n",
       "      <td>1</td>\n",
       "      <td>9</td>\n",
       "      <td>0</td>\n",
       "      <td>1</td>\n",
       "      <td>...</td>\n",
       "      <td>0</td>\n",
       "      <td>0</td>\n",
       "      <td>1</td>\n",
       "      <td>3</td>\n",
       "      <td>0</td>\n",
       "      <td>2</td>\n",
       "      <td>0</td>\n",
       "      <td>2</td>\n",
       "      <td>0</td>\n",
       "      <td>1</td>\n",
       "    </tr>\n",
       "    <tr>\n",
       "      <th>1</th>\n",
       "      <td>0</td>\n",
       "      <td>2</td>\n",
       "      <td>0</td>\n",
       "      <td>1</td>\n",
       "      <td>1</td>\n",
       "      <td>1</td>\n",
       "      <td>2</td>\n",
       "      <td>5</td>\n",
       "      <td>0</td>\n",
       "      <td>1</td>\n",
       "      <td>...</td>\n",
       "      <td>1</td>\n",
       "      <td>0</td>\n",
       "      <td>0</td>\n",
       "      <td>0</td>\n",
       "      <td>0</td>\n",
       "      <td>0</td>\n",
       "      <td>0</td>\n",
       "      <td>0</td>\n",
       "      <td>0</td>\n",
       "      <td>0</td>\n",
       "    </tr>\n",
       "    <tr>\n",
       "      <th>2</th>\n",
       "      <td>0</td>\n",
       "      <td>1</td>\n",
       "      <td>0</td>\n",
       "      <td>0</td>\n",
       "      <td>1</td>\n",
       "      <td>2</td>\n",
       "      <td>1</td>\n",
       "      <td>8</td>\n",
       "      <td>1</td>\n",
       "      <td>0</td>\n",
       "      <td>...</td>\n",
       "      <td>0</td>\n",
       "      <td>0</td>\n",
       "      <td>1</td>\n",
       "      <td>0</td>\n",
       "      <td>0</td>\n",
       "      <td>1</td>\n",
       "      <td>1</td>\n",
       "      <td>2</td>\n",
       "      <td>1</td>\n",
       "      <td>1</td>\n",
       "    </tr>\n",
       "    <tr>\n",
       "      <th>3</th>\n",
       "      <td>0</td>\n",
       "      <td>0</td>\n",
       "      <td>0</td>\n",
       "      <td>0</td>\n",
       "      <td>0</td>\n",
       "      <td>0</td>\n",
       "      <td>1</td>\n",
       "      <td>0</td>\n",
       "      <td>0</td>\n",
       "      <td>0</td>\n",
       "      <td>...</td>\n",
       "      <td>0</td>\n",
       "      <td>0</td>\n",
       "      <td>0</td>\n",
       "      <td>0</td>\n",
       "      <td>0</td>\n",
       "      <td>0</td>\n",
       "      <td>0</td>\n",
       "      <td>0</td>\n",
       "      <td>0</td>\n",
       "      <td>0</td>\n",
       "    </tr>\n",
       "    <tr>\n",
       "      <th>4</th>\n",
       "      <td>2</td>\n",
       "      <td>0</td>\n",
       "      <td>0</td>\n",
       "      <td>0</td>\n",
       "      <td>0</td>\n",
       "      <td>0</td>\n",
       "      <td>1</td>\n",
       "      <td>0</td>\n",
       "      <td>0</td>\n",
       "      <td>0</td>\n",
       "      <td>...</td>\n",
       "      <td>0</td>\n",
       "      <td>0</td>\n",
       "      <td>0</td>\n",
       "      <td>1</td>\n",
       "      <td>0</td>\n",
       "      <td>0</td>\n",
       "      <td>0</td>\n",
       "      <td>0</td>\n",
       "      <td>0</td>\n",
       "      <td>0</td>\n",
       "    </tr>\n",
       "    <tr>\n",
       "      <th>...</th>\n",
       "      <td>...</td>\n",
       "      <td>...</td>\n",
       "      <td>...</td>\n",
       "      <td>...</td>\n",
       "      <td>...</td>\n",
       "      <td>...</td>\n",
       "      <td>...</td>\n",
       "      <td>...</td>\n",
       "      <td>...</td>\n",
       "      <td>...</td>\n",
       "      <td>...</td>\n",
       "      <td>...</td>\n",
       "      <td>...</td>\n",
       "      <td>...</td>\n",
       "      <td>...</td>\n",
       "      <td>...</td>\n",
       "      <td>...</td>\n",
       "      <td>...</td>\n",
       "      <td>...</td>\n",
       "      <td>...</td>\n",
       "      <td>...</td>\n",
       "    </tr>\n",
       "    <tr>\n",
       "      <th>8641</th>\n",
       "      <td>0</td>\n",
       "      <td>2</td>\n",
       "      <td>0</td>\n",
       "      <td>1</td>\n",
       "      <td>1</td>\n",
       "      <td>0</td>\n",
       "      <td>1</td>\n",
       "      <td>6</td>\n",
       "      <td>1</td>\n",
       "      <td>0</td>\n",
       "      <td>...</td>\n",
       "      <td>1</td>\n",
       "      <td>1</td>\n",
       "      <td>1</td>\n",
       "      <td>1</td>\n",
       "      <td>0</td>\n",
       "      <td>0</td>\n",
       "      <td>1</td>\n",
       "      <td>1</td>\n",
       "      <td>1</td>\n",
       "      <td>0</td>\n",
       "    </tr>\n",
       "    <tr>\n",
       "      <th>8642</th>\n",
       "      <td>0</td>\n",
       "      <td>2</td>\n",
       "      <td>2</td>\n",
       "      <td>1</td>\n",
       "      <td>1</td>\n",
       "      <td>0</td>\n",
       "      <td>1</td>\n",
       "      <td>6</td>\n",
       "      <td>1</td>\n",
       "      <td>0</td>\n",
       "      <td>...</td>\n",
       "      <td>1</td>\n",
       "      <td>1</td>\n",
       "      <td>1</td>\n",
       "      <td>1</td>\n",
       "      <td>0</td>\n",
       "      <td>0</td>\n",
       "      <td>1</td>\n",
       "      <td>1</td>\n",
       "      <td>1</td>\n",
       "      <td>0</td>\n",
       "    </tr>\n",
       "    <tr>\n",
       "      <th>8643</th>\n",
       "      <td>1</td>\n",
       "      <td>2</td>\n",
       "      <td>0</td>\n",
       "      <td>2</td>\n",
       "      <td>2</td>\n",
       "      <td>1</td>\n",
       "      <td>0</td>\n",
       "      <td>10</td>\n",
       "      <td>0</td>\n",
       "      <td>2</td>\n",
       "      <td>...</td>\n",
       "      <td>0</td>\n",
       "      <td>1</td>\n",
       "      <td>1</td>\n",
       "      <td>0</td>\n",
       "      <td>0</td>\n",
       "      <td>2</td>\n",
       "      <td>0</td>\n",
       "      <td>2</td>\n",
       "      <td>1</td>\n",
       "      <td>1</td>\n",
       "    </tr>\n",
       "    <tr>\n",
       "      <th>8644</th>\n",
       "      <td>1</td>\n",
       "      <td>0</td>\n",
       "      <td>0</td>\n",
       "      <td>1</td>\n",
       "      <td>0</td>\n",
       "      <td>1</td>\n",
       "      <td>0</td>\n",
       "      <td>2</td>\n",
       "      <td>0</td>\n",
       "      <td>0</td>\n",
       "      <td>...</td>\n",
       "      <td>0</td>\n",
       "      <td>0</td>\n",
       "      <td>1</td>\n",
       "      <td>0</td>\n",
       "      <td>0</td>\n",
       "      <td>1</td>\n",
       "      <td>0</td>\n",
       "      <td>1</td>\n",
       "      <td>0</td>\n",
       "      <td>0</td>\n",
       "    </tr>\n",
       "    <tr>\n",
       "      <th>8645</th>\n",
       "      <td>1</td>\n",
       "      <td>0</td>\n",
       "      <td>0</td>\n",
       "      <td>0</td>\n",
       "      <td>0</td>\n",
       "      <td>0</td>\n",
       "      <td>1</td>\n",
       "      <td>6</td>\n",
       "      <td>0</td>\n",
       "      <td>0</td>\n",
       "      <td>...</td>\n",
       "      <td>1</td>\n",
       "      <td>0</td>\n",
       "      <td>0</td>\n",
       "      <td>0</td>\n",
       "      <td>0</td>\n",
       "      <td>0</td>\n",
       "      <td>1</td>\n",
       "      <td>1</td>\n",
       "      <td>1</td>\n",
       "      <td>0</td>\n",
       "    </tr>\n",
       "  </tbody>\n",
       "</table>\n",
       "<p>8646 rows × 100 columns</p>\n",
       "</div>"
      ],
      "text/plain": [
       "      000  48  500  access  according  additional  administrative  apartment  \\\n",
       "0       0   1    0       0          1           2               1          9   \n",
       "1       0   2    0       1          1           1               2          5   \n",
       "2       0   1    0       0          1           2               1          8   \n",
       "3       0   0    0       0          0           0               1          0   \n",
       "4       2   0    0       0          0           0               1          0   \n",
       "...   ...  ..  ...     ...        ...         ...             ...        ...   \n",
       "8641    0   2    0       1          1           0               1          6   \n",
       "8642    0   2    2       1          1           0               1          6   \n",
       "8643    1   2    0       2          2           1               0         10   \n",
       "8644    1   0    0       1          0           1               0          2   \n",
       "8645    1   0    0       0          0           0               1          6   \n",
       "\n",
       "      appliances  approx  ...  street  table  toilet  tv  type  ul  \\\n",
       "0              0       1  ...       0      0       1   3     0   2   \n",
       "1              0       1  ...       1      0       0   0     0   0   \n",
       "2              1       0  ...       0      0       1   0     0   1   \n",
       "3              0       0  ...       0      0       0   0     0   0   \n",
       "4              0       0  ...       0      0       0   1     0   0   \n",
       "...          ...     ...  ...     ...    ...     ...  ..   ...  ..   \n",
       "8641           1       0  ...       1      1       1   1     0   0   \n",
       "8642           1       0  ...       1      1       1   1     0   0   \n",
       "8643           0       2  ...       0      1       1   0     0   2   \n",
       "8644           0       0  ...       0      0       1   0     0   1   \n",
       "8645           0       0  ...       1      0       0   0     0   0   \n",
       "\n",
       "      underground  wardrobe  washing  water  \n",
       "0               0         2        0      1  \n",
       "1               0         0        0      0  \n",
       "2               1         2        1      1  \n",
       "3               0         0        0      0  \n",
       "4               0         0        0      0  \n",
       "...           ...       ...      ...    ...  \n",
       "8641            1         1        1      0  \n",
       "8642            1         1        1      0  \n",
       "8643            0         2        1      1  \n",
       "8644            0         1        0      0  \n",
       "8645            1         1        1      0  \n",
       "\n",
       "[8646 rows x 100 columns]"
      ]
     },
     "execution_count": 46,
     "metadata": {},
     "output_type": "execute_result"
    }
   ],
   "source": [
    "X = matrix.toarray()\n",
    "matrix_show = pd.DataFrame(X)\n",
    "matrix_show.columns = words\n",
    "matrix_show"
   ]
  },
  {
   "cell_type": "markdown",
   "id": "44bd22ad",
   "metadata": {},
   "source": [
    "#### Zastosowanie innego podejścia do wybrania mało licznych słów.\n",
    "W celi poniżej alternatywna analiza występowania słów w opisie. Zliczamy wystąpienia słów w opisach\n",
    "bag_of_words macierz, w której każdy wiersz reprezentuje określony tekst, a każda kolumna reprezentuje słowo w słowniku, czyli wszystkie słowa znalezione w korpusie. Czyli bag_of_words[i,j] to wystąpienie słowa j w tekście i."
   ]
  },
  {
   "cell_type": "code",
   "execution_count": 12,
   "id": "dfd8b007",
   "metadata": {},
   "outputs": [
    {
     "name": "stdout",
     "output_type": "stream",
     "text": [
      "[('mieszkanie', 16082), ('nieruchomości', 8266), ('czynsz', 6243), ('numer', 6049), ('48', 5866), ('najmu', 5769), ('pokaż', 5665), ('and', 5474), ('znajduje', 5055), ('mieszkania', 5018), ('in', 4910), ('pln', 4594), ('oferty', 4459), ('centrum', 4453), ('of', 4393), ('budynku', 4215), ('łazienka', 4170), ('wynajęcia', 4049), ('ul', 4023), ('with', 3926), ('miejsce', 3898), ('kaucja', 3767), ('oferta', 3752), ('prąd', 3635), ('sypialni', 3542), ('lokalizacja', 3440), ('piętrze', 3422), ('ogrzewanie', 3394), ('łazienki', 3369), ('opłaty', 3289), ('składa', 3126), ('powierzchni', 3078), ('balkon', 3064), ('kuchnia', 3000), ('aneksem', 2999), ('pełni', 2985), ('apartment', 2981), ('salon', 2960), ('kuchennym', 2929), ('apartament', 2893), ('wc', 2750), ('is', 2736), ('wyposażone', 2700), ('sypialnia', 2669), ('rozumieniu', 2644), ('kuchni', 2621), ('umeblowane', 2609), ('piekarnik', 2584), ('salonu', 2567), ('woda', 2527), ('stanowi', 2493), ('lodówka', 2434), ('kodeksu', 2433), ('pobliżu', 2426), ('cywilnego', 2416), ('agd', 2360), ('szafa', 2357), ('miasta', 2318), ('przedpokoju', 2314), ('pralka', 2281), ('administracyjny', 2275), ('for', 2223), ('com', 2219), ('zmywarka', 2154), ('wysłana', 2123), ('dodatkowo', 2111), ('możliwość', 2111), ('sklepy', 2099), ('meble', 2087), ('pokój', 2084), ('park', 2066), ('płyta', 2011), ('programu', 1968), ('biur', 1962), ('media', 1942), ('garażu', 1930), ('zużycia', 1926), ('miejsca', 1911), ('budynek', 1901), ('zabudowie', 1894), ('nowe', 1888), ('cena', 1858), ('informacje', 1857), ('pokojowe', 1852), ('room', 1852), ('postojowe', 1833), ('wyposażona', 1823), ('osób', 1790), ('wynajem', 1742), ('łóżko', 1740), ('asari', 1719), ('crm', 1718), ('wg', 1718), ('podziemnym', 1717), ('asaricrm', 1716), ('zaraz', 1704), ('dostępne', 1685), ('prezentację', 1668), ('min', 1661), ('przedpokój', 1645)]\n"
     ]
    }
   ],
   "source": [
    "## można zrobić też w jednym kroku fit_transform\n",
    "bag_of_words = count_v.transform(X)\n",
    "suma_slow = bag_of_words.sum(axis=0) # suma_slow to wektor, który zawiera sumę wystąpień każdego słowa we wszystkich tekstach \n",
    "# print(suma_slow) # tu jak ktoś ciekawy ja to wygląda pierwotnie\n",
    "\n",
    "# Zliczanie wystąpień. W pierwszej linijce pętla zliczająca liczbę wystąpień i zwracająca parę: słowo - liczba wystąpień.\n",
    "# W drugiej linijce sortowanie słów od największej liczby wystąpień do najmiejszej\n",
    "\n",
    "words_freq = [(word, suma_slow[0, idx]) for word, idx in count_v.vocabulary_.items()]\n",
    "words_freq =sorted(words_freq, key = lambda x: x[1], reverse=True)\n",
    "print(words_freq) # drukowanie i analiza\n",
    "\n"
   ]
  },
  {
   "cell_type": "markdown",
   "id": "7f8065f9",
   "metadata": {},
   "source": [
    "#### Zastosowanie słownika predefiniowanego"
   ]
  },
  {
   "cell_type": "code",
   "execution_count": 13,
   "id": "afcb01ee",
   "metadata": {},
   "outputs": [
    {
     "name": "stdout",
     "output_type": "stream",
     "text": [
      "[('mieszkanie', 16082), ('meble', 2087), ('kanapa', 810)]\n"
     ]
    }
   ],
   "source": [
    "# z zastosowaniem słownika\n",
    "from sklearn.feature_extraction.text import CountVectorizer\n",
    "slownik = ['mieszkanie', 'meble', 'kanapa']\n",
    "\n",
    "X=df['descr'] # tu generuje wektor opisów do analizy\n",
    "count_v = CountVectorizer(max_features=100, stop_words=lista, vocabulary = slownik)\n",
    "\n",
    "bag_of_words = count_v.fit_transform(X)\n",
    "suma_slow = bag_of_words.sum(axis=0)\n",
    "\n",
    "words_freq = [(word, suma_slow[0, idx]) for word, idx in count_v.vocabulary_.items()]\n",
    "words_freq = sorted(words_freq, key = lambda x: x[1], reverse=True)\n",
    "print(words_freq)\n"
   ]
  },
  {
   "cell_type": "code",
   "execution_count": 3,
   "id": "5846e6c1",
   "metadata": {},
   "outputs": [],
   "source": [
    "# to jest zestaw wyrazeń, które chcę dodać do stop words po analizie\n",
    "stop2 = {'m2', 'pl', 'zł', 'zapraszam', 'the', 'nr',}"
   ]
  },
  {
   "cell_type": "code",
   "execution_count": null,
   "id": "0bb08998",
   "metadata": {},
   "outputs": [],
   "source": [
    "# Ciekawostka: są dodatkowe opcje CountVectorizer. Możemy ustalić np. minimalną liczbę wystąpień poleceniem min_df \n",
    "# żeby je usunąć i zmiejszyć liczbę wymiarów\n",
    "# coun_vect = CountVectorizer(min_df=10) # ustawienie limitu na 10\n",
    "# count_matrix = coun_vect.fit_transform(test_x)\n",
    "# count_array = count_matrix.toarray() \n",
    "# df = pd.DataFrame(data=count_array,columns = coun_vect.get_feature_names()) # tu pozyskujemy listę słów\n",
    "# print(df) # tu drukujemy te słowa."
   ]
  },
  {
   "cell_type": "markdown",
   "id": "6c04f118",
   "metadata": {},
   "source": [
    "### Zastosowanie funkcji n-gram\n",
    "Niektóre określenia mają większy sens gdy rozpatrujemy je jako całość, a nie jako osobne słowa.\n",
    "<br> Dotyczy np. określeń: aneks kuchenny.\n",
    "<br> Dlatego możemy stosować n-gramy w celu utworzenia zestawień słów umiejscowionych koło siebie w analizowanym tekście.\n",
    "\n",
    "Implementacja w CountVectorizer przebiega prosto. W opcjach dodajemy parametr ngram_range=\n",
    "Gdzie wartość range określa jakie n-gramy mają być zastosowane.\n",
    "ngram_range=(1,2) dobierze każde słowo z osobna i wszystkie pary słów\n",
    "ngram_range=(2,2) dobierze tylko pary słów\n"
   ]
  },
  {
   "cell_type": "code",
   "execution_count": 14,
   "id": "76a9c21d",
   "metadata": {},
   "outputs": [
    {
     "data": {
      "text/plain": [
       "array(['48 pokaż', 'aneks kuchenny', 'aneksem kuchennym', 'apartment is',\n",
       "       'art 66', 'asari crm', 'asaricrm com', 'biur nieruchomości',\n",
       "       'biuro nieruchomości', 'cena najmu', 'centrum miasta',\n",
       "       'charakter informacyjny', 'ciepła woda', 'crm asaricrm',\n",
       "       'czynsz administracyjny', 'czynsz najmu', 'dodatkowe informacje',\n",
       "       'dostępne zaraz', 'duży balkon', 'dwupokojowe mieszkanie',\n",
       "       'garażu podziemnym', 'hali garażowej', 'handlowej rozumieniu',\n",
       "       'is located', 'istnieje możliwość', 'kabina prysznicowa',\n",
       "       'kaucja zwrotna', 'kodeksu cywilnego', 'komunikacji miejskiej',\n",
       "       'komórka lokatorska', 'kuchennym sypialni', 'liczne sklepy',\n",
       "       'living room', 'miejsce parkingowe', 'miejsce postojowe',\n",
       "       'mieszkania przynależy', 'mieszkanie dostępne', 'mieszkanie pełni',\n",
       "       'mieszkanie pokojowe', 'mieszkanie powierzchni',\n",
       "       'mieszkanie składa', 'mieszkanie znajduje', 'możliwość wynajęcia',\n",
       "       'najem okazjonalny', 'najmu okazjonalnego', 'nieruchomości asari',\n",
       "       'niniejsze ogłoszenie', 'niniejszego ogłoszenia', 'numer 48',\n",
       "       'odpowiedzialny zawodowo', 'oferta wysłana', 'oferty handlowej',\n",
       "       'oferty rozumieniu', 'ogrzewanie miejskie', 'ogłoszenia stanowi',\n",
       "       'opłaty czynsz', 'pełni umeblowane', 'pełni wyposażone',\n",
       "       'piekarnik płyta', 'pln czynsz', 'pokaż numer',\n",
       "       'pokojowe mieszkanie', 'postojowe garażu',\n",
       "       'pośrednik odpowiedzialny', 'programu biur', 'przepisów kodeksu',\n",
       "       'przynależy miejsce', 'przystanek autobusowy', 'prąd gaz',\n",
       "       'prąd wg', 'punkty usługowe', 'płyta indukcyjna', 'real estate',\n",
       "       'room with', 'rozumieniu art', 'rozumieniu kodeksu',\n",
       "       'rozumieniu przepisów', 'salon aneksem', 'salonu aneksem',\n",
       "       'składa salonu', 'sprzęt agd', 'stanowi oferty', 'stolik kawowy',\n",
       "       'stół krzesłami', 'sypialni łazienki', 'treść niniejszego',\n",
       "       'umeblowane wyposażone', 'umowa najmu', 'umowy pośrednictwa',\n",
       "       'wg zużycia', 'wyjściem balkon', 'wykonanie umowy',\n",
       "       'wymagana kaucja', 'wynajęcia mieszkanie', 'wysokim standardzie',\n",
       "       'wysłana programu', 'zawodowo wykonanie', 'znajduje piętrze',\n",
       "       'łazienka wc', 'łazienki wc'], dtype=object)"
      ]
     },
     "execution_count": 14,
     "metadata": {},
     "output_type": "execute_result"
    }
   ],
   "source": [
    "from sklearn.feature_extraction.text import CountVectorizer\n",
    "\n",
    "vectorizer = CountVectorizer(max_features=100, ngram_range=(2,2), stop_words=lista)\n",
    "# Map each word in our training narratives to a vector position\n",
    "vectorizer.fit(df['descr'])\n",
    "\n",
    "# tu otrzymana lista ngramów\n",
    "vectorizer.get_feature_names_out()\n"
   ]
  },
  {
   "cell_type": "markdown",
   "id": "e5f905d3",
   "metadata": {},
   "source": [
    "### Wdrożenie ograniczonego modelu. \n",
    "> Ten model nie jest efektywny bo analiza i korekta opisu jest przeprowadzona w celach demonstracyjnych i prezentuje funkcjonalność narzędzi. \n",
    "<br> Prezentuje również efektywność takiego podejścia. Poprzez likwidację wymiarów osiągamy znaczne oszczędności czasowe związane z wdrożeniem modelu."
   ]
  },
  {
   "cell_type": "code",
   "execution_count": 163,
   "id": "40085557",
   "metadata": {},
   "outputs": [],
   "source": [
    "## jeżeli to wszystko co jest w komórkach poniżej jest tym samym co w ML lub Bayessowski, to usuńmy to.\n",
    "## ten dokument może pozostać tylko opisem sposobów wyboru stop wordsów i przygotowania tekstu do realizacji autoklasyfikacji.\n",
    "# Tu po analizie próba znalezienia parametrów\n",
    "\n",
    "from sklearn.model_selection import train_test_split\n",
    "from sklearn.svm import SVC \n",
    "\n",
    "vectorizer = CountVectorizer(max_features=1200,  stop_words=lista)\n",
    "# Map each word in our training narratives to a vector position\n",
    "vectorizer.fit(df['descr'])\n",
    "# Convert each training narrative to its vector representation and stack them into a matrix\n",
    "X = vectorizer.transform(df['descr'])\n",
    "X = X.toarray()\n",
    "y = df['kitch_class']\n",
    "\n",
    "# podział zbioru na 3 części. W pierwszym kroku otrzymamy 2 zbiory - uszący i treningowy z walidacyjnym. W 2 kroku dokonujemy \n",
    "# podziału zbioru testowo - walidacyjnego na dwa odrębne zbiory testowy i walidacyjny\n",
    "\n",
    "X_train, X_test_all, y_train, y_test_all = train_test_split(X, y, test_size=0.50, random_state=2)\n",
    "\n",
    "X_test, X_val, y_test, y_val = train_test_split(X_test_all, y_test_all, test_size=0.50, random_state=2)\n",
    "\n"
   ]
  },
  {
   "cell_type": "code",
   "execution_count": 164,
   "id": "54563c6b",
   "metadata": {},
   "outputs": [
    {
     "name": "stdout",
     "output_type": "stream",
     "text": [
      "The list of values for C are [1.00000000e-03 1.58489319e-03 2.51188643e-03 3.98107171e-03\n",
      " 6.30957344e-03 1.00000000e-02 1.58489319e-02 2.51188643e-02\n",
      " 3.98107171e-02 6.30957344e-02 1.00000000e-01 1.58489319e-01\n",
      " 2.51188643e-01 3.98107171e-01 6.30957344e-01 1.00000000e+00\n",
      " 1.58489319e+00 2.51188643e+00 3.98107171e+00 6.30957344e+00\n",
      " 1.00000000e+01 1.58489319e+01 2.51188643e+01 3.98107171e+01\n",
      " 6.30957344e+01 1.00000000e+02 1.58489319e+02 2.51188643e+02\n",
      " 3.98107171e+02 6.30957344e+02 1.00000000e+03]\n",
      "The list of values for gamma are [1.00000000e-03 1.58489319e-03 2.51188643e-03 3.98107171e-03\n",
      " 6.30957344e-03 1.00000000e-02 1.58489319e-02 2.51188643e-02\n",
      " 3.98107171e-02 6.30957344e-02 1.00000000e-01 1.58489319e-01\n",
      " 2.51188643e-01 3.98107171e-01 6.30957344e-01 1.00000000e+00\n",
      " 1.58489319e+00 2.51188643e+00 3.98107171e+00 6.30957344e+00\n",
      " 1.00000000e+01 1.58489319e+01 2.51188643e+01 3.98107171e+01\n",
      " 6.30957344e+01 1.00000000e+02 1.58489319e+02 2.51188643e+02\n",
      " 3.98107171e+02 6.30957344e+02 1.00000000e+03]\n"
     ]
    }
   ],
   "source": [
    "# Dobór parametrów przy użyciu metody optymizacji Bayessowskiej. Ze względu na demonstracyjny charakter \n",
    "# ograniczę przestrzeń wyszukiwania w celu zaoszczędzenia czasu. Z drugiej strony zawężona przestrzeń poszukiwań pozwala funkcji na lepszy wybór parametrów.\n",
    "\n",
    "# Zdefiniowanie przestrzeni poszukiwania\n",
    "\n",
    "# Przestrzeń dla wartości C\n",
    "C_range = np.logspace(-3, 3, 31) # pierwsza wartość, wartość końcowa, ilość wystąpień np.-5, 5, 21\n",
    "print(f'The list of values for C are {C_range}')\n",
    "\n",
    "# Przestrzeń dla wartości gamma\n",
    "gamma_range = np.logspace(-3, 3, 31) # pierwsza wartość, wartość końcowa, ilość wystąpień np.-5, 5, 21\n",
    "print(f'The list of values for gamma are {gamma_range}')"
   ]
  },
  {
   "cell_type": "code",
   "execution_count": 165,
   "id": "63531e37",
   "metadata": {},
   "outputs": [
    {
     "name": "stdout",
     "output_type": "stream",
     "text": [
      "100%|████████████████████████████████████████████████████████████████████████████████████████████████████████████████████████████████████████████████████████████████| 100/100 [04:43<00:00,  2.83s/trial, best loss: -0.9191607059755256]\n"
     ]
    }
   ],
   "source": [
    "from sklearn.model_selection import StratifiedKFold, RandomizedSearchCV, cross_val_score\n",
    "from hyperopt import tpe, STATUS_OK, Trials, hp, fmin, STATUS_OK, space_eval\n",
    "from statistics import mean\n",
    "\n",
    "# Przestrzeń\n",
    "space = {\n",
    "    'C' : hp.choice('C', C_range),\n",
    "    'gamma' : hp.choice('gamma', gamma_range.tolist()+['scale', 'auto']),\n",
    "    'kernel' : hp.choice('kernel', ['linear', 'rbf'])\n",
    "}\n",
    "# W tym kroku użyjemy funkcji StratifiedKFold do podziału zbioru. Funkcja ta powala dokonac losowania stratyfikacyjnego w niezbyt\n",
    "# zrównoważonych zbiorach. Zobaczymy czy zastosowanie tej funkcji pozwoli nam w sposób bardziej dokładny. () \n",
    "\n",
    "kfold = StratifiedKFold(n_splits=3, shuffle=True, random_state=0)\n",
    "\n",
    "# Objective function\n",
    "def objective(params):\n",
    "    \n",
    "    svc = SVC(**params)\n",
    "    scores = cross_val_score(svc, X_train, y_train, cv=kfold, scoring='accuracy', n_jobs=-1)\n",
    "    # Extract the best score\n",
    "    best_score = mean(scores)\n",
    "    # Loss must be minimized\n",
    "    loss = - best_score\n",
    "    # Dictionary with information for evaluation\n",
    "    return {'loss': loss, 'params': params, 'status': STATUS_OK}\n",
    "# Trials to track progress\n",
    "bayes_trials = Trials()\n",
    "# Optimize\n",
    "best = fmin(fn = objective, space = space, algo = tpe.suggest, max_evals = 100, trials = bayes_trials) # max_eval powinno być wyższe np. 200"
   ]
  },
  {
   "cell_type": "code",
   "execution_count": 166,
   "id": "f534724e",
   "metadata": {},
   "outputs": [
    {
     "name": "stdout",
     "output_type": "stream",
     "text": [
      "{'C': 7, 'gamma': 32, 'kernel': 0}\n",
      "{'C': 0.025118864315095808, 'gamma': 'auto', 'kernel': 'linear'}\n"
     ]
    }
   ],
   "source": [
    "# Print the index of the best parameters\n",
    "print(best)\n",
    "# Print the values of the best parameters\n",
    "print(space_eval(space, best))"
   ]
  },
  {
   "cell_type": "code",
   "execution_count": 167,
   "id": "89598dca",
   "metadata": {},
   "outputs": [
    {
     "name": "stdout",
     "output_type": "stream",
     "text": [
      "              precision    recall  f1-score   support\n",
      "\n",
      "       aneks       0.91      0.91      0.91       726\n",
      "     odrębna       0.83      0.84      0.84       393\n",
      "\n",
      "    accuracy                           0.88      1119\n",
      "   macro avg       0.87      0.87      0.87      1119\n",
      "weighted avg       0.88      0.88      0.88      1119\n",
      "\n",
      "0.8838248436103664\n"
     ]
    }
   ],
   "source": [
    "from sklearn import metrics\n",
    "\n",
    "Bayes_predict_model_SVM = SVC(C=1.0, kernel = 'linear' , gamma=0.001, random_state=42).fit(X_train,y_train)\n",
    "y_pred_test = Bayes_predict_model_SVM.predict(X_test)\n",
    "print(metrics.classification_report(y_test,y_pred_test))\n",
    "print(metrics.accuracy_score(y_test, y_pred_test))"
   ]
  },
  {
   "cell_type": "code",
   "execution_count": 168,
   "id": "123392a6",
   "metadata": {},
   "outputs": [
    {
     "data": {
      "image/png": "[encoded data removed]",
      "text/plain": [
       "<Figure size 640x480 with 2 Axes>"
      ]
     },
     "metadata": {},
     "output_type": "display_data"
    }
   ],
   "source": [
    "cm_display = metrics.ConfusionMatrixDisplay(confusion_matrix = metrics.confusion_matrix(y_test,y_pred_test), display_labels = ['True', 'False'])\n",
    "cm_display.plot(cmap=plt.cm.Blues,values_format='g')\n",
    "plt.show()"
   ]
  }
 ],
 "metadata": {
  "kernelspec": {
   "display_name": "Python 3 (ipykernel)",
   "language": "python",
   "name": "python3"
  },
  "language_info": {
   "codemirror_mode": {
    "name": "ipython",
    "version": 3
   },
   "file_extension": ".py",
   "mimetype": "text/x-python",
   "name": "python",
   "nbconvert_exporter": "python",
   "pygments_lexer": "ipython3",
   "version": "3.11.1"
  }
 },
 "nbformat": 4,
 "nbformat_minor": 5
}
